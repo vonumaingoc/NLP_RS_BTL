{
 "cells": [
  {
   "cell_type": "markdown",
   "metadata": {
    "id": "vBBD9wNIHyp7"
   },
   "source": [
    "<center>\n",
    "    <h1>HỌC PHẦN: XỬ LÝ NGÔN NGỮ TỰ NHIÊN - 7080124</h1>\n",
    "    <h2>BÁO CÁO BÀI TẬP LỚN<h2>\n",
    "    <h3>ĐỀ TÀI</h3>\n",
    "    <h3>XÂY DỰNG HỆ THỐNG GỢI Ý PHIM TRÊN NETFLIX<h3>\n",
    "    \n",
    "</center>\n",
    "\n",
    "--------------------------------------------\n",
    "**Sinh viên thực hiện:**\n",
    "* Võ Nữ Mai Ngọc\n",
    "* Nguyễn Hữu Quý\n",
    "* Nguyễn Văn Hải\n",
    "        \n",
    "**Giảng viên hướng dẫn:**\n",
    "* TS. Nguyễn Thế Lộc"
   ]
  },
  {
   "cell_type": "markdown",
   "metadata": {},
   "source": [
    "---\n",
    "### XÂY DỰNG HỆ THỐNG GỢI Ý PHIM TRÊN NETFLIX\n",
    "Tập dữ liệu Netflix mà bạn đang đề cập đến là tổng hợp thông tin chi tiết về các bộ phim và chương trình truyền hình có sẵn trên nền tảng phát trực tuyến Netflix\n",
    "\n",
    "\n",
    "Các file dữ liệu sử dụng bao gồm:\n",
    "\n",
    "1. show_id: Số nhận dạng duy nhất cho mỗi chương trình\n",
    "\n",
    "2. type: Loại phương tiện, chẳng hạn như phim hoặc chương trình truyền hình.\n",
    "\n",
    "3. title:  Tiêu đề của chương trình hoặc phim.\n",
    "\n",
    "4. director: Giám đốc đạo diễn của bộ phim hoặc chương trình truyền hình.\n",
    "\n",
    "5. cast main: Diễn viên chính của chương trình hoặc bộ phim.\n",
    "\n",
    "6. country: Quốc gia nơi chương trình hoặc bộ phim được sản xuất.\n",
    "\n",
    "7. date_added: khi chương trình hoặc phim được thêm vào danh mục Netflix.\n",
    "\n",
    "8. release_year:khi chương trình hoặc bộ phim ban đầu được phát hành.\n",
    "\n",
    "9. rating: xếp hạng độ tuổi, được trao cho chương trình hoặc phim.\n",
    "\n",
    "10. duration: thời lượng của bộ phim tính bằng phút hoặc số mùa cho một chương trình truyền hình.\n",
    "\n",
    "11. listed_in: thể loại hoặc thể loại mà chương trình hoặc phim thuộc về.\n",
    "\n",
    "12. description: Một bản tóm tắt ngắn gọn hoặc tóm tắt của chương trình hoặc bộ phim."
   ]
  },
  {
   "cell_type": "markdown",
   "metadata": {
    "id": "0WVHxEbMLjw7"
   },
   "source": [
    "## I) Đọc tập dữ liệu và Quan sát dữ liệu\n",
    "---"
   ]
  },
  {
   "cell_type": "code",
   "execution_count": 42,
   "metadata": {
    "colab": {
     "base_uri": "https://localhost:8080/"
    },
    "id": "Agee35H2JZg0",
    "outputId": "866a7dd6-0130-4019-e4c1-44a3d792dec0"
   },
   "outputs": [],
   "source": [
    "import numpy as np\n",
    "import pandas as pd\n",
    "import matplotlib.pyplot as plt\n",
    "import seaborn as sns\n",
    "warnings.filterwarnings('ignore')"
   ]
  },
  {
   "cell_type": "code",
   "execution_count": 98,
   "metadata": {},
   "outputs": [
    {
     "name": "stdout",
     "output_type": "stream",
     "text": [
      "<class 'pandas.core.frame.DataFrame'>\n",
      "RangeIndex: 6234 entries, 0 to 6233\n",
      "Data columns (total 12 columns):\n",
      " #   Column        Non-Null Count  Dtype \n",
      "---  ------        --------------  ----- \n",
      " 0   show_id       6234 non-null   int64 \n",
      " 1   type          6234 non-null   object\n",
      " 2   title         6229 non-null   object\n",
      " 3   director      4265 non-null   object\n",
      " 4   cast          5664 non-null   object\n",
      " 5   country       5758 non-null   object\n",
      " 6   date_added    6223 non-null   object\n",
      " 7   release_year  6234 non-null   int64 \n",
      " 8   rating        6224 non-null   object\n",
      " 9   duration      6234 non-null   object\n",
      " 10  listed_in     6234 non-null   object\n",
      " 11  description   6234 non-null   object\n",
      "dtypes: int64(2), object(10)\n",
      "memory usage: 584.6+ KB\n"
     ]
    }
   ],
   "source": [
    "#Đọc tập dữ liệu thông tin của các film\n",
    "data_movies = pd.read_csv('nf_movies.csv')\n",
    "\n",
    "#Hiển thị thông tin tập dữ liệu\n",
    "data_movies.info()"
   ]
  },
  {
   "cell_type": "code",
   "execution_count": 99,
   "metadata": {
    "colab": {
     "base_uri": "https://localhost:8080/",
     "height": 666
    },
    "id": "De82EJthJrEM",
    "outputId": "e5e96513-60a4-459d-df6a-2882b4426d93"
   },
   "outputs": [
    {
     "data": {
      "text/html": [
       "<div>\n",
       "<style scoped>\n",
       "    .dataframe tbody tr th:only-of-type {\n",
       "        vertical-align: middle;\n",
       "    }\n",
       "\n",
       "    .dataframe tbody tr th {\n",
       "        vertical-align: top;\n",
       "    }\n",
       "\n",
       "    .dataframe thead th {\n",
       "        text-align: right;\n",
       "    }\n",
       "</style>\n",
       "<table border=\"1\" class=\"dataframe\">\n",
       "  <thead>\n",
       "    <tr style=\"text-align: right;\">\n",
       "      <th></th>\n",
       "      <th>show_id</th>\n",
       "      <th>type</th>\n",
       "      <th>title</th>\n",
       "      <th>director</th>\n",
       "      <th>cast</th>\n",
       "      <th>country</th>\n",
       "      <th>date_added</th>\n",
       "      <th>release_year</th>\n",
       "      <th>rating</th>\n",
       "      <th>duration</th>\n",
       "      <th>listed_in</th>\n",
       "      <th>description</th>\n",
       "    </tr>\n",
       "  </thead>\n",
       "  <tbody>\n",
       "    <tr>\n",
       "      <th>0</th>\n",
       "      <td>81145628</td>\n",
       "      <td>Movie</td>\n",
       "      <td>Norm of the North: King Sized Adventure</td>\n",
       "      <td>Richard Finn, Tim Maltby</td>\n",
       "      <td>Alan Marriott, Andrew Toth, Brian Dobson, Cole...</td>\n",
       "      <td>United States, India, South Korea, China</td>\n",
       "      <td>September 9, 2019</td>\n",
       "      <td>2019</td>\n",
       "      <td>TV-PG</td>\n",
       "      <td>90 min</td>\n",
       "      <td>Children &amp; Family Movies, Comedies</td>\n",
       "      <td>Before planning an awesome wedding for his gra...</td>\n",
       "    </tr>\n",
       "    <tr>\n",
       "      <th>1</th>\n",
       "      <td>80117401</td>\n",
       "      <td>Movie</td>\n",
       "      <td>Jandino: Whatever it Takes</td>\n",
       "      <td>NaN</td>\n",
       "      <td>Jandino Asporaat</td>\n",
       "      <td>United Kingdom</td>\n",
       "      <td>September 9, 2016</td>\n",
       "      <td>2016</td>\n",
       "      <td>TV-MA</td>\n",
       "      <td>94 min</td>\n",
       "      <td>Stand-Up Comedy</td>\n",
       "      <td>Jandino Asporaat riffs on the challenges of ra...</td>\n",
       "    </tr>\n",
       "    <tr>\n",
       "      <th>2</th>\n",
       "      <td>70234439</td>\n",
       "      <td>TV Show</td>\n",
       "      <td>Transformers Prime</td>\n",
       "      <td>NaN</td>\n",
       "      <td>Peter Cullen, Sumalee Montano, Frank Welker, J...</td>\n",
       "      <td>United States</td>\n",
       "      <td>September 8, 2018</td>\n",
       "      <td>2013</td>\n",
       "      <td>TV-Y7-FV</td>\n",
       "      <td>1 Season</td>\n",
       "      <td>Kids' TV</td>\n",
       "      <td>With the help of three human allies, the Autob...</td>\n",
       "    </tr>\n",
       "    <tr>\n",
       "      <th>3</th>\n",
       "      <td>80058654</td>\n",
       "      <td>TV Show</td>\n",
       "      <td>Transformers: Robots in Disguise</td>\n",
       "      <td>NaN</td>\n",
       "      <td>Will Friedle, Darren Criss, Constance Zimmer, ...</td>\n",
       "      <td>United States</td>\n",
       "      <td>September 8, 2018</td>\n",
       "      <td>2016</td>\n",
       "      <td>TV-Y7</td>\n",
       "      <td>1 Season</td>\n",
       "      <td>Kids' TV</td>\n",
       "      <td>When a prison ship crash unleashes hundreds of...</td>\n",
       "    </tr>\n",
       "    <tr>\n",
       "      <th>4</th>\n",
       "      <td>80125979</td>\n",
       "      <td>Movie</td>\n",
       "      <td>#realityhigh</td>\n",
       "      <td>Fernando Lebrija</td>\n",
       "      <td>Nesta Cooper, Kate Walsh, John Michael Higgins...</td>\n",
       "      <td>United States</td>\n",
       "      <td>September 8, 2017</td>\n",
       "      <td>2017</td>\n",
       "      <td>TV-14</td>\n",
       "      <td>99 min</td>\n",
       "      <td>Comedies</td>\n",
       "      <td>When nerdy high schooler Dani finally attracts...</td>\n",
       "    </tr>\n",
       "  </tbody>\n",
       "</table>\n",
       "</div>"
      ],
      "text/plain": [
       "    show_id     type                                    title  \\\n",
       "0  81145628    Movie  Norm of the North: King Sized Adventure   \n",
       "1  80117401    Movie               Jandino: Whatever it Takes   \n",
       "2  70234439  TV Show                       Transformers Prime   \n",
       "3  80058654  TV Show         Transformers: Robots in Disguise   \n",
       "4  80125979    Movie                             #realityhigh   \n",
       "\n",
       "                   director  \\\n",
       "0  Richard Finn, Tim Maltby   \n",
       "1                       NaN   \n",
       "2                       NaN   \n",
       "3                       NaN   \n",
       "4          Fernando Lebrija   \n",
       "\n",
       "                                                cast  \\\n",
       "0  Alan Marriott, Andrew Toth, Brian Dobson, Cole...   \n",
       "1                                   Jandino Asporaat   \n",
       "2  Peter Cullen, Sumalee Montano, Frank Welker, J...   \n",
       "3  Will Friedle, Darren Criss, Constance Zimmer, ...   \n",
       "4  Nesta Cooper, Kate Walsh, John Michael Higgins...   \n",
       "\n",
       "                                    country         date_added  release_year  \\\n",
       "0  United States, India, South Korea, China  September 9, 2019          2019   \n",
       "1                            United Kingdom  September 9, 2016          2016   \n",
       "2                             United States  September 8, 2018          2013   \n",
       "3                             United States  September 8, 2018          2016   \n",
       "4                             United States  September 8, 2017          2017   \n",
       "\n",
       "     rating  duration                           listed_in  \\\n",
       "0     TV-PG    90 min  Children & Family Movies, Comedies   \n",
       "1     TV-MA    94 min                     Stand-Up Comedy   \n",
       "2  TV-Y7-FV  1 Season                            Kids' TV   \n",
       "3     TV-Y7  1 Season                            Kids' TV   \n",
       "4     TV-14    99 min                            Comedies   \n",
       "\n",
       "                                         description  \n",
       "0  Before planning an awesome wedding for his gra...  \n",
       "1  Jandino Asporaat riffs on the challenges of ra...  \n",
       "2  With the help of three human allies, the Autob...  \n",
       "3  When a prison ship crash unleashes hundreds of...  \n",
       "4  When nerdy high schooler Dani finally attracts...  "
      ]
     },
     "execution_count": 99,
     "metadata": {},
     "output_type": "execute_result"
    }
   ],
   "source": [
    "#Hiển thị dữ liệu 5 dòng đầu tiên\n",
    "data_movies.head()"
   ]
  },
  {
   "cell_type": "markdown",
   "metadata": {
    "id": "eJFNsjDQ6G-5"
   },
   "source": [
    "**Lọc dữ liệu thô ban đầu chỉ lấy các cột quan trọng sử dụng để xây dựng hệ thống gợi ý:**\n",
    "1. type: Loại phương tiện, chẳng hạn như phim hoặc chương trình truyền hình.\n",
    "\n",
    "2. title:  Tiêu đề của chương trình hoặc phim.\n",
    "\n",
    "3. director: Giám đốc đạo diễn của bộ phim hoặc chương trình truyền hình.\n",
    "\n",
    "4. cast main: Diễn viên chính của chương trình hoặc bộ phim.\n",
    "\n",
    "5. country: Quốc gia nơi chương trình hoặc bộ phim được sản xuất.\n",
    "\n",
    "6. date_added: khi chương trình hoặc phim được thêm vào danh mục Netflix.\n",
    "\n",
    "7. release_year:khi chương trình hoặc bộ phim ban đầu được phát hành.\n",
    "\n",
    "8. rating: xếp hạng độ tuổi, được trao cho chương trình hoặc phim.\n",
    "\n",
    "9. duration: thời lượng của bộ phim tính bằng phút hoặc số mùa cho một chương trình truyền hình.\n",
    "\n",
    "10. listed_in: thể loại hoặc thể loại mà chương trình hoặc phim thuộc về.\n",
    "\n",
    "11. description: Một bản tóm tắt ngắn gọn hoặc tóm tắt của chương trình hoặc bộ phim."
   ]
  },
  {
   "cell_type": "code",
   "execution_count": 100,
   "metadata": {
    "colab": {
     "base_uri": "https://localhost:8080/"
    },
    "id": "H4lQuUW_57qq",
    "outputId": "ef2b6308-f6d9-49fe-8509-057f98c8c0a6"
   },
   "outputs": [
    {
     "name": "stdout",
     "output_type": "stream",
     "text": [
      "<class 'pandas.core.frame.DataFrame'>\n",
      "RangeIndex: 6234 entries, 0 to 6233\n",
      "Data columns (total 11 columns):\n",
      " #   Column        Non-Null Count  Dtype \n",
      "---  ------        --------------  ----- \n",
      " 0   type          6234 non-null   object\n",
      " 1   title         6229 non-null   object\n",
      " 2   director      4265 non-null   object\n",
      " 3   cast          5664 non-null   object\n",
      " 4   country       5758 non-null   object\n",
      " 5   date_added    6223 non-null   object\n",
      " 6   release_year  6234 non-null   int64 \n",
      " 7   rating        6224 non-null   object\n",
      " 8   duration      6234 non-null   object\n",
      " 9   listed_in     6234 non-null   object\n",
      " 10  description   6234 non-null   object\n",
      "dtypes: int64(1), object(10)\n",
      "memory usage: 535.9+ KB\n"
     ]
    }
   ],
   "source": [
    "data = data_movies.loc[:,['type',\n",
    "                          'title',\n",
    "                          'director',\n",
    "                          'cast',\n",
    "                          'country',\n",
    "                          'date_added',\n",
    "                         'release_year',\n",
    "                         'rating',\n",
    "                         'duration',\n",
    "                         'listed_in',\n",
    "                         'description']].copy()\n",
    "data.info()"
   ]
  },
  {
   "cell_type": "code",
   "execution_count": 101,
   "metadata": {},
   "outputs": [
    {
     "data": {
      "text/html": [
       "<div>\n",
       "<style scoped>\n",
       "    .dataframe tbody tr th:only-of-type {\n",
       "        vertical-align: middle;\n",
       "    }\n",
       "\n",
       "    .dataframe tbody tr th {\n",
       "        vertical-align: top;\n",
       "    }\n",
       "\n",
       "    .dataframe thead th {\n",
       "        text-align: right;\n",
       "    }\n",
       "</style>\n",
       "<table border=\"1\" class=\"dataframe\">\n",
       "  <thead>\n",
       "    <tr style=\"text-align: right;\">\n",
       "      <th></th>\n",
       "      <th>type</th>\n",
       "      <th>title</th>\n",
       "      <th>director</th>\n",
       "      <th>cast</th>\n",
       "      <th>country</th>\n",
       "      <th>date_added</th>\n",
       "      <th>release_year</th>\n",
       "      <th>rating</th>\n",
       "      <th>duration</th>\n",
       "      <th>listed_in</th>\n",
       "      <th>description</th>\n",
       "    </tr>\n",
       "  </thead>\n",
       "  <tbody>\n",
       "    <tr>\n",
       "      <th>0</th>\n",
       "      <td>Movie</td>\n",
       "      <td>Norm of the North: King Sized Adventure</td>\n",
       "      <td>Richard Finn, Tim Maltby</td>\n",
       "      <td>Alan Marriott, Andrew Toth, Brian Dobson, Cole...</td>\n",
       "      <td>United States, India, South Korea, China</td>\n",
       "      <td>September 9, 2019</td>\n",
       "      <td>2019</td>\n",
       "      <td>TV-PG</td>\n",
       "      <td>90 min</td>\n",
       "      <td>Children &amp; Family Movies, Comedies</td>\n",
       "      <td>Before planning an awesome wedding for his gra...</td>\n",
       "    </tr>\n",
       "    <tr>\n",
       "      <th>1</th>\n",
       "      <td>Movie</td>\n",
       "      <td>Jandino: Whatever it Takes</td>\n",
       "      <td>NaN</td>\n",
       "      <td>Jandino Asporaat</td>\n",
       "      <td>United Kingdom</td>\n",
       "      <td>September 9, 2016</td>\n",
       "      <td>2016</td>\n",
       "      <td>TV-MA</td>\n",
       "      <td>94 min</td>\n",
       "      <td>Stand-Up Comedy</td>\n",
       "      <td>Jandino Asporaat riffs on the challenges of ra...</td>\n",
       "    </tr>\n",
       "    <tr>\n",
       "      <th>2</th>\n",
       "      <td>TV Show</td>\n",
       "      <td>Transformers Prime</td>\n",
       "      <td>NaN</td>\n",
       "      <td>Peter Cullen, Sumalee Montano, Frank Welker, J...</td>\n",
       "      <td>United States</td>\n",
       "      <td>September 8, 2018</td>\n",
       "      <td>2013</td>\n",
       "      <td>TV-Y7-FV</td>\n",
       "      <td>1 Season</td>\n",
       "      <td>Kids' TV</td>\n",
       "      <td>With the help of three human allies, the Autob...</td>\n",
       "    </tr>\n",
       "    <tr>\n",
       "      <th>3</th>\n",
       "      <td>TV Show</td>\n",
       "      <td>Transformers: Robots in Disguise</td>\n",
       "      <td>NaN</td>\n",
       "      <td>Will Friedle, Darren Criss, Constance Zimmer, ...</td>\n",
       "      <td>United States</td>\n",
       "      <td>September 8, 2018</td>\n",
       "      <td>2016</td>\n",
       "      <td>TV-Y7</td>\n",
       "      <td>1 Season</td>\n",
       "      <td>Kids' TV</td>\n",
       "      <td>When a prison ship crash unleashes hundreds of...</td>\n",
       "    </tr>\n",
       "    <tr>\n",
       "      <th>4</th>\n",
       "      <td>Movie</td>\n",
       "      <td>#realityhigh</td>\n",
       "      <td>Fernando Lebrija</td>\n",
       "      <td>Nesta Cooper, Kate Walsh, John Michael Higgins...</td>\n",
       "      <td>United States</td>\n",
       "      <td>September 8, 2017</td>\n",
       "      <td>2017</td>\n",
       "      <td>TV-14</td>\n",
       "      <td>99 min</td>\n",
       "      <td>Comedies</td>\n",
       "      <td>When nerdy high schooler Dani finally attracts...</td>\n",
       "    </tr>\n",
       "  </tbody>\n",
       "</table>\n",
       "</div>"
      ],
      "text/plain": [
       "      type                                    title                  director  \\\n",
       "0    Movie  Norm of the North: King Sized Adventure  Richard Finn, Tim Maltby   \n",
       "1    Movie               Jandino: Whatever it Takes                       NaN   \n",
       "2  TV Show                       Transformers Prime                       NaN   \n",
       "3  TV Show         Transformers: Robots in Disguise                       NaN   \n",
       "4    Movie                             #realityhigh          Fernando Lebrija   \n",
       "\n",
       "                                                cast  \\\n",
       "0  Alan Marriott, Andrew Toth, Brian Dobson, Cole...   \n",
       "1                                   Jandino Asporaat   \n",
       "2  Peter Cullen, Sumalee Montano, Frank Welker, J...   \n",
       "3  Will Friedle, Darren Criss, Constance Zimmer, ...   \n",
       "4  Nesta Cooper, Kate Walsh, John Michael Higgins...   \n",
       "\n",
       "                                    country         date_added  release_year  \\\n",
       "0  United States, India, South Korea, China  September 9, 2019          2019   \n",
       "1                            United Kingdom  September 9, 2016          2016   \n",
       "2                             United States  September 8, 2018          2013   \n",
       "3                             United States  September 8, 2018          2016   \n",
       "4                             United States  September 8, 2017          2017   \n",
       "\n",
       "     rating  duration                           listed_in  \\\n",
       "0     TV-PG    90 min  Children & Family Movies, Comedies   \n",
       "1     TV-MA    94 min                     Stand-Up Comedy   \n",
       "2  TV-Y7-FV  1 Season                            Kids' TV   \n",
       "3     TV-Y7  1 Season                            Kids' TV   \n",
       "4     TV-14    99 min                            Comedies   \n",
       "\n",
       "                                         description  \n",
       "0  Before planning an awesome wedding for his gra...  \n",
       "1  Jandino Asporaat riffs on the challenges of ra...  \n",
       "2  With the help of three human allies, the Autob...  \n",
       "3  When a prison ship crash unleashes hundreds of...  \n",
       "4  When nerdy high schooler Dani finally attracts...  "
      ]
     },
     "execution_count": 101,
     "metadata": {},
     "output_type": "execute_result"
    }
   ],
   "source": [
    "data.head()"
   ]
  },
  {
   "cell_type": "code",
   "execution_count": 102,
   "metadata": {},
   "outputs": [
    {
     "data": {
      "text/html": [
       "<div>\n",
       "<style scoped>\n",
       "    .dataframe tbody tr th:only-of-type {\n",
       "        vertical-align: middle;\n",
       "    }\n",
       "\n",
       "    .dataframe tbody tr th {\n",
       "        vertical-align: top;\n",
       "    }\n",
       "\n",
       "    .dataframe thead th {\n",
       "        text-align: right;\n",
       "    }\n",
       "</style>\n",
       "<table border=\"1\" class=\"dataframe\">\n",
       "  <thead>\n",
       "    <tr style=\"text-align: right;\">\n",
       "      <th></th>\n",
       "      <th>type</th>\n",
       "      <th>title</th>\n",
       "      <th>director</th>\n",
       "      <th>cast</th>\n",
       "      <th>country</th>\n",
       "      <th>date_added</th>\n",
       "      <th>release_year</th>\n",
       "      <th>rating</th>\n",
       "      <th>duration</th>\n",
       "      <th>listed_in</th>\n",
       "      <th>description</th>\n",
       "    </tr>\n",
       "  </thead>\n",
       "  <tbody>\n",
       "    <tr>\n",
       "      <th>6229</th>\n",
       "      <td>TV Show</td>\n",
       "      <td>Red vs. Blue</td>\n",
       "      <td>NaN</td>\n",
       "      <td>Burnie Burns, Jason Saldaña, Gustavo Sorola, G...</td>\n",
       "      <td>United States</td>\n",
       "      <td>NaN</td>\n",
       "      <td>2015</td>\n",
       "      <td>NR</td>\n",
       "      <td>13 Seasons</td>\n",
       "      <td>TV Action &amp; Adventure, TV Comedies, TV Sci-Fi ...</td>\n",
       "      <td>This parody of first-person shooter games, mil...</td>\n",
       "    </tr>\n",
       "    <tr>\n",
       "      <th>6230</th>\n",
       "      <td>TV Show</td>\n",
       "      <td>Maron</td>\n",
       "      <td>NaN</td>\n",
       "      <td>Marc Maron, Judd Hirsch, Josh Brener, Nora Zeh...</td>\n",
       "      <td>United States</td>\n",
       "      <td>NaN</td>\n",
       "      <td>2016</td>\n",
       "      <td>TV-MA</td>\n",
       "      <td>4 Seasons</td>\n",
       "      <td>TV Comedies</td>\n",
       "      <td>Marc Maron stars as Marc Maron, who interviews...</td>\n",
       "    </tr>\n",
       "    <tr>\n",
       "      <th>6231</th>\n",
       "      <td>Movie</td>\n",
       "      <td>Little Baby Bum: Nursery Rhyme Friends</td>\n",
       "      <td>NaN</td>\n",
       "      <td>NaN</td>\n",
       "      <td>NaN</td>\n",
       "      <td>NaN</td>\n",
       "      <td>2016</td>\n",
       "      <td>NaN</td>\n",
       "      <td>60 min</td>\n",
       "      <td>Movies</td>\n",
       "      <td>Nursery rhymes and original music for children...</td>\n",
       "    </tr>\n",
       "    <tr>\n",
       "      <th>6232</th>\n",
       "      <td>TV Show</td>\n",
       "      <td>A Young Doctor's Notebook and Other Stories</td>\n",
       "      <td>NaN</td>\n",
       "      <td>Daniel Radcliffe, Jon Hamm, Adam Godley, Chris...</td>\n",
       "      <td>United Kingdom</td>\n",
       "      <td>NaN</td>\n",
       "      <td>2013</td>\n",
       "      <td>TV-MA</td>\n",
       "      <td>2 Seasons</td>\n",
       "      <td>British TV Shows, TV Comedies, TV Dramas</td>\n",
       "      <td>Set during the Russian Revolution, this comic ...</td>\n",
       "    </tr>\n",
       "    <tr>\n",
       "      <th>6233</th>\n",
       "      <td>TV Show</td>\n",
       "      <td>Friends</td>\n",
       "      <td>NaN</td>\n",
       "      <td>Jennifer Aniston, Courteney Cox, Lisa Kudrow, ...</td>\n",
       "      <td>United States</td>\n",
       "      <td>NaN</td>\n",
       "      <td>2003</td>\n",
       "      <td>TV-14</td>\n",
       "      <td>10 Seasons</td>\n",
       "      <td>Classic &amp; Cult TV, TV Comedies</td>\n",
       "      <td>This hit sitcom follows the merry misadventure...</td>\n",
       "    </tr>\n",
       "  </tbody>\n",
       "</table>\n",
       "</div>"
      ],
      "text/plain": [
       "         type                                        title director  \\\n",
       "6229  TV Show                                 Red vs. Blue      NaN   \n",
       "6230  TV Show                                        Maron      NaN   \n",
       "6231    Movie       Little Baby Bum: Nursery Rhyme Friends      NaN   \n",
       "6232  TV Show  A Young Doctor's Notebook and Other Stories      NaN   \n",
       "6233  TV Show                                      Friends      NaN   \n",
       "\n",
       "                                                   cast         country  \\\n",
       "6229  Burnie Burns, Jason Saldaña, Gustavo Sorola, G...   United States   \n",
       "6230  Marc Maron, Judd Hirsch, Josh Brener, Nora Zeh...   United States   \n",
       "6231                                                NaN             NaN   \n",
       "6232  Daniel Radcliffe, Jon Hamm, Adam Godley, Chris...  United Kingdom   \n",
       "6233  Jennifer Aniston, Courteney Cox, Lisa Kudrow, ...   United States   \n",
       "\n",
       "     date_added  release_year rating    duration  \\\n",
       "6229        NaN          2015     NR  13 Seasons   \n",
       "6230        NaN          2016  TV-MA   4 Seasons   \n",
       "6231        NaN          2016    NaN      60 min   \n",
       "6232        NaN          2013  TV-MA   2 Seasons   \n",
       "6233        NaN          2003  TV-14  10 Seasons   \n",
       "\n",
       "                                              listed_in  \\\n",
       "6229  TV Action & Adventure, TV Comedies, TV Sci-Fi ...   \n",
       "6230                                        TV Comedies   \n",
       "6231                                             Movies   \n",
       "6232           British TV Shows, TV Comedies, TV Dramas   \n",
       "6233                     Classic & Cult TV, TV Comedies   \n",
       "\n",
       "                                            description  \n",
       "6229  This parody of first-person shooter games, mil...  \n",
       "6230  Marc Maron stars as Marc Maron, who interviews...  \n",
       "6231  Nursery rhymes and original music for children...  \n",
       "6232  Set during the Russian Revolution, this comic ...  \n",
       "6233  This hit sitcom follows the merry misadventure...  "
      ]
     },
     "execution_count": 102,
     "metadata": {},
     "output_type": "execute_result"
    }
   ],
   "source": [
    "data.tail()"
   ]
  },
  {
   "cell_type": "code",
   "execution_count": 104,
   "metadata": {},
   "outputs": [
    {
     "data": {
      "text/html": [
       "<div>\n",
       "<style scoped>\n",
       "    .dataframe tbody tr th:only-of-type {\n",
       "        vertical-align: middle;\n",
       "    }\n",
       "\n",
       "    .dataframe tbody tr th {\n",
       "        vertical-align: top;\n",
       "    }\n",
       "\n",
       "    .dataframe thead th {\n",
       "        text-align: right;\n",
       "    }\n",
       "</style>\n",
       "<table border=\"1\" class=\"dataframe\">\n",
       "  <thead>\n",
       "    <tr style=\"text-align: right;\">\n",
       "      <th></th>\n",
       "      <th>type</th>\n",
       "      <th>title</th>\n",
       "      <th>director</th>\n",
       "      <th>cast</th>\n",
       "      <th>country</th>\n",
       "      <th>date_added</th>\n",
       "      <th>release_year</th>\n",
       "      <th>rating</th>\n",
       "      <th>duration</th>\n",
       "      <th>listed_in</th>\n",
       "      <th>description</th>\n",
       "    </tr>\n",
       "  </thead>\n",
       "  <tbody>\n",
       "  </tbody>\n",
       "</table>\n",
       "</div>"
      ],
      "text/plain": [
       "Empty DataFrame\n",
       "Columns: [type, title, director, cast, country, date_added, release_year, rating, duration, listed_in, description]\n",
       "Index: []"
      ]
     },
     "execution_count": 104,
     "metadata": {},
     "output_type": "execute_result"
    }
   ],
   "source": [
    "#Tìm kiếm film theo tên:\n",
    "data[data.title=='Batman']"
   ]
  },
  {
   "cell_type": "code",
   "execution_count": null,
   "metadata": {},
   "outputs": [],
   "source": []
  },
  {
   "cell_type": "code",
   "execution_count": 106,
   "metadata": {
    "colab": {
     "base_uri": "https://localhost:8080/",
     "height": 173
    },
    "id": "9vntmqMANsae",
    "outputId": "49025477-f37f-4603-8e2c-3727a7c2c186"
   },
   "outputs": [
    {
     "data": {
      "text/html": [
       "<div>\n",
       "<style scoped>\n",
       "    .dataframe tbody tr th:only-of-type {\n",
       "        vertical-align: middle;\n",
       "    }\n",
       "\n",
       "    .dataframe tbody tr th {\n",
       "        vertical-align: top;\n",
       "    }\n",
       "\n",
       "    .dataframe thead th {\n",
       "        text-align: right;\n",
       "    }\n",
       "</style>\n",
       "<table border=\"1\" class=\"dataframe\">\n",
       "  <thead>\n",
       "    <tr style=\"text-align: right;\">\n",
       "      <th></th>\n",
       "      <th>type</th>\n",
       "      <th>title</th>\n",
       "      <th>director</th>\n",
       "      <th>cast</th>\n",
       "      <th>country</th>\n",
       "      <th>date_added</th>\n",
       "      <th>rating</th>\n",
       "      <th>duration</th>\n",
       "      <th>listed_in</th>\n",
       "      <th>description</th>\n",
       "    </tr>\n",
       "  </thead>\n",
       "  <tbody>\n",
       "    <tr>\n",
       "      <th>count</th>\n",
       "      <td>6234</td>\n",
       "      <td>6229</td>\n",
       "      <td>4265</td>\n",
       "      <td>5664</td>\n",
       "      <td>5758</td>\n",
       "      <td>6223</td>\n",
       "      <td>6224</td>\n",
       "      <td>6234</td>\n",
       "      <td>6234</td>\n",
       "      <td>6234</td>\n",
       "    </tr>\n",
       "    <tr>\n",
       "      <th>unique</th>\n",
       "      <td>2</td>\n",
       "      <td>6167</td>\n",
       "      <td>3301</td>\n",
       "      <td>5469</td>\n",
       "      <td>554</td>\n",
       "      <td>1189</td>\n",
       "      <td>14</td>\n",
       "      <td>201</td>\n",
       "      <td>461</td>\n",
       "      <td>6226</td>\n",
       "    </tr>\n",
       "    <tr>\n",
       "      <th>top</th>\n",
       "      <td>Movie</td>\n",
       "      <td>Limitless</td>\n",
       "      <td>Raúl Campos, Jan Suter</td>\n",
       "      <td>David Attenborough</td>\n",
       "      <td>United States</td>\n",
       "      <td>January 1, 2020</td>\n",
       "      <td>TV-MA</td>\n",
       "      <td>1 Season</td>\n",
       "      <td>Documentaries</td>\n",
       "      <td>A surly septuagenarian gets another chance at ...</td>\n",
       "    </tr>\n",
       "    <tr>\n",
       "      <th>freq</th>\n",
       "      <td>4265</td>\n",
       "      <td>3</td>\n",
       "      <td>18</td>\n",
       "      <td>18</td>\n",
       "      <td>2032</td>\n",
       "      <td>126</td>\n",
       "      <td>2027</td>\n",
       "      <td>1321</td>\n",
       "      <td>299</td>\n",
       "      <td>3</td>\n",
       "    </tr>\n",
       "  </tbody>\n",
       "</table>\n",
       "</div>"
      ],
      "text/plain": [
       "         type      title                director                cast  \\\n",
       "count    6234       6229                    4265                5664   \n",
       "unique      2       6167                    3301                5469   \n",
       "top     Movie  Limitless  Raúl Campos, Jan Suter  David Attenborough   \n",
       "freq     4265          3                      18                  18   \n",
       "\n",
       "              country       date_added rating  duration      listed_in  \\\n",
       "count            5758             6223   6224      6234           6234   \n",
       "unique            554             1189     14       201            461   \n",
       "top     United States  January 1, 2020  TV-MA  1 Season  Documentaries   \n",
       "freq             2032              126   2027      1321            299   \n",
       "\n",
       "                                              description  \n",
       "count                                                6234  \n",
       "unique                                               6226  \n",
       "top     A surly septuagenarian gets another chance at ...  \n",
       "freq                                                    3  "
      ]
     },
     "execution_count": 106,
     "metadata": {},
     "output_type": "execute_result"
    }
   ],
   "source": [
    "#Đặc trưng thống kê dữ liệu Object\n",
    "data.describe(include=['O'])"
   ]
  },
  {
   "cell_type": "code",
   "execution_count": 107,
   "metadata": {},
   "outputs": [
    {
     "data": {
      "text/plain": [
       "type               0\n",
       "title              5\n",
       "director        1969\n",
       "cast             570\n",
       "country          476\n",
       "date_added        11\n",
       "release_year       0\n",
       "rating            10\n",
       "duration           0\n",
       "listed_in          0\n",
       "description        0\n",
       "dtype: int64"
      ]
     },
     "execution_count": 107,
     "metadata": {},
     "output_type": "execute_result"
    }
   ],
   "source": [
    "data.isnull().sum()"
   ]
  },
  {
   "cell_type": "markdown",
   "metadata": {
    "id": "0Ew3T6ZIZVWs"
   },
   "source": [
    "# **2) Tiền xử lý dữ liệu tập Movies**\n",
    "---"
   ]
  },
  {
   "cell_type": "code",
   "execution_count": 108,
   "metadata": {},
   "outputs": [
    {
     "data": {
      "text/plain": [
       "type               0\n",
       "title              5\n",
       "director        1969\n",
       "cast             570\n",
       "country          476\n",
       "date_added        11\n",
       "release_year       0\n",
       "rating            10\n",
       "duration           0\n",
       "listed_in          0\n",
       "description        0\n",
       "dtype: int64"
      ]
     },
     "execution_count": 108,
     "metadata": {},
     "output_type": "execute_result"
    }
   ],
   "source": [
    "data.isnull().sum()"
   ]
  },
  {
   "cell_type": "code",
   "execution_count": 109,
   "metadata": {},
   "outputs": [
    {
     "data": {
      "text/plain": [
       "0       False\n",
       "1        True\n",
       "2        True\n",
       "3        True\n",
       "4       False\n",
       "        ...  \n",
       "6229     True\n",
       "6230     True\n",
       "6231     True\n",
       "6232     True\n",
       "6233     True\n",
       "Name: director, Length: 6234, dtype: bool"
      ]
     },
     "execution_count": 109,
     "metadata": {},
     "output_type": "execute_result"
    }
   ],
   "source": [
    "data['director'].isnull()"
   ]
  },
  {
   "cell_type": "code",
   "execution_count": 110,
   "metadata": {},
   "outputs": [],
   "source": [
    "# xoá cột director\n",
    "data = data.drop(columns=['director'])"
   ]
  },
  {
   "cell_type": "code",
   "execution_count": 111,
   "metadata": {},
   "outputs": [
    {
     "data": {
      "text/plain": [
       "type              0\n",
       "title             5\n",
       "cast            570\n",
       "country         476\n",
       "date_added       11\n",
       "release_year      0\n",
       "rating           10\n",
       "duration          0\n",
       "listed_in         0\n",
       "description       0\n",
       "dtype: int64"
      ]
     },
     "execution_count": 111,
     "metadata": {},
     "output_type": "execute_result"
    }
   ],
   "source": [
    "data.isnull().sum()"
   ]
  },
  {
   "cell_type": "code",
   "execution_count": 112,
   "metadata": {},
   "outputs": [],
   "source": [
    "# xoá các dữ liệu bị missing\n",
    "data = data.dropna()"
   ]
  },
  {
   "cell_type": "code",
   "execution_count": 113,
   "metadata": {},
   "outputs": [
    {
     "name": "stdout",
     "output_type": "stream",
     "text": [
      "<class 'pandas.core.frame.DataFrame'>\n",
      "Index: 5251 entries, 0 to 6222\n",
      "Data columns (total 10 columns):\n",
      " #   Column        Non-Null Count  Dtype \n",
      "---  ------        --------------  ----- \n",
      " 0   type          5251 non-null   object\n",
      " 1   title         5251 non-null   object\n",
      " 2   cast          5251 non-null   object\n",
      " 3   country       5251 non-null   object\n",
      " 4   date_added    5251 non-null   object\n",
      " 5   release_year  5251 non-null   int64 \n",
      " 6   rating        5251 non-null   object\n",
      " 7   duration      5251 non-null   object\n",
      " 8   listed_in     5251 non-null   object\n",
      " 9   description   5251 non-null   object\n",
      "dtypes: int64(1), object(9)\n",
      "memory usage: 451.3+ KB\n"
     ]
    }
   ],
   "source": [
    "data.info()"
   ]
  },
  {
   "cell_type": "markdown",
   "metadata": {
    "id": "3dBFzSbb9rHM"
   },
   "source": [
    "## **2.1) Chuẩn hóa dữ liệu:**\n",
    "---\n",
    "* Kiểm tra dữ liệu null của các thuộc tính\n",
    "* Loại bỏ các bộ film có thuộc tín null\n",
    "* Sắp xếp lại các bộ film theo năm phát hành"
   ]
  },
  {
   "cell_type": "code",
   "execution_count": 114,
   "metadata": {
    "colab": {
     "base_uri": "https://localhost:8080/"
    },
    "id": "ceRi0y6m9qtV",
    "outputId": "08c22543-06d8-4098-d1bf-daf33de2c716"
   },
   "outputs": [
    {
     "name": "stdout",
     "output_type": "stream",
     "text": [
      "Số lượng missing data trong file dữ liệu:\n",
      "type            0\n",
      "title           0\n",
      "cast            0\n",
      "country         0\n",
      "date_added      0\n",
      "release_year    0\n",
      "rating          0\n",
      "duration        0\n",
      "listed_in       0\n",
      "description     0\n",
      "dtype: int64\n"
     ]
    }
   ],
   "source": [
    "#Thống kê số liệu missing trong Data frame\n",
    "#Theo từng cột\n",
    "print('Số lượng missing data trong file dữ liệu:')\n",
    "print(data.isnull().sum())"
   ]
  },
  {
   "cell_type": "code",
   "execution_count": 116,
   "metadata": {
    "colab": {
     "base_uri": "https://localhost:8080/"
    },
    "id": "Rtca35At-rau",
    "outputId": "003c578b-8b95-4c60-fd83-6e7fe6eaf6f8"
   },
   "outputs": [
    {
     "name": "stdout",
     "output_type": "stream",
     "text": [
      "<class 'pandas.core.frame.DataFrame'>\n",
      "Index: 5251 entries, 0 to 6222\n",
      "Data columns (total 10 columns):\n",
      " #   Column        Non-Null Count  Dtype \n",
      "---  ------        --------------  ----- \n",
      " 0   type          5251 non-null   object\n",
      " 1   title         5251 non-null   object\n",
      " 2   cast          5251 non-null   object\n",
      " 3   country       5251 non-null   object\n",
      " 4   date_added    5251 non-null   object\n",
      " 5   release_year  5251 non-null   int64 \n",
      " 6   rating        5251 non-null   object\n",
      " 7   duration      5251 non-null   object\n",
      " 8   listed_in     5251 non-null   object\n",
      " 9   description   5251 non-null   object\n",
      "dtypes: int64(1), object(9)\n",
      "memory usage: 451.3+ KB\n"
     ]
    }
   ],
   "source": [
    "#Xóa tất cả các bộ film có chứa thuộc tính null\n",
    "data.dropna(axis=0,how='any',inplace=True)\n",
    "data.info()"
   ]
  },
  {
   "cell_type": "code",
   "execution_count": 117,
   "metadata": {
    "colab": {
     "base_uri": "https://localhost:8080/",
     "height": 204
    },
    "id": "pdR6J3KKYAQQ",
    "outputId": "f1aaf46c-901b-4031-a864-d0cc7ddb9bfe"
   },
   "outputs": [
    {
     "data": {
      "text/html": [
       "<div>\n",
       "<style scoped>\n",
       "    .dataframe tbody tr th:only-of-type {\n",
       "        vertical-align: middle;\n",
       "    }\n",
       "\n",
       "    .dataframe tbody tr th {\n",
       "        vertical-align: top;\n",
       "    }\n",
       "\n",
       "    .dataframe thead th {\n",
       "        text-align: right;\n",
       "    }\n",
       "</style>\n",
       "<table border=\"1\" class=\"dataframe\">\n",
       "  <thead>\n",
       "    <tr style=\"text-align: right;\">\n",
       "      <th></th>\n",
       "      <th>type</th>\n",
       "      <th>title</th>\n",
       "      <th>cast</th>\n",
       "      <th>country</th>\n",
       "      <th>date_added</th>\n",
       "      <th>release_year</th>\n",
       "      <th>rating</th>\n",
       "      <th>duration</th>\n",
       "      <th>listed_in</th>\n",
       "      <th>description</th>\n",
       "    </tr>\n",
       "  </thead>\n",
       "  <tbody>\n",
       "    <tr>\n",
       "      <th>2013</th>\n",
       "      <td>Movie</td>\n",
       "      <td>The Battle of Midway</td>\n",
       "      <td>Henry Fonda, Jane Darwell</td>\n",
       "      <td>United States</td>\n",
       "      <td>March 31, 2017</td>\n",
       "      <td>1942</td>\n",
       "      <td>TV-G</td>\n",
       "      <td>18 min</td>\n",
       "      <td>Classic Movies, Documentaries</td>\n",
       "      <td>Director John Ford captures combat footage of ...</td>\n",
       "    </tr>\n",
       "    <tr>\n",
       "      <th>2021</th>\n",
       "      <td>Movie</td>\n",
       "      <td>Tunisian Victory</td>\n",
       "      <td>Burgess Meredith</td>\n",
       "      <td>United States, United Kingdom</td>\n",
       "      <td>March 31, 2017</td>\n",
       "      <td>1944</td>\n",
       "      <td>TV-PG</td>\n",
       "      <td>76 min</td>\n",
       "      <td>Classic Movies, Documentaries</td>\n",
       "      <td>British and American troops join forces to lib...</td>\n",
       "    </tr>\n",
       "    <tr>\n",
       "      <th>2005</th>\n",
       "      <td>Movie</td>\n",
       "      <td>Know Your Enemy - Japan</td>\n",
       "      <td>Walter Huston, Dana Andrews</td>\n",
       "      <td>United States</td>\n",
       "      <td>March 31, 2017</td>\n",
       "      <td>1945</td>\n",
       "      <td>TV-14</td>\n",
       "      <td>63 min</td>\n",
       "      <td>Classic Movies, Documentaries</td>\n",
       "      <td>Though culturally insensitive by modern standa...</td>\n",
       "    </tr>\n",
       "    <tr>\n",
       "      <th>2006</th>\n",
       "      <td>Movie</td>\n",
       "      <td>Let There Be Light</td>\n",
       "      <td>Walter Huston</td>\n",
       "      <td>United States</td>\n",
       "      <td>March 31, 2017</td>\n",
       "      <td>1946</td>\n",
       "      <td>TV-PG</td>\n",
       "      <td>58 min</td>\n",
       "      <td>Classic Movies, Documentaries</td>\n",
       "      <td>Some returning combat veterans suffer scars th...</td>\n",
       "    </tr>\n",
       "    <tr>\n",
       "      <th>2930</th>\n",
       "      <td>Movie</td>\n",
       "      <td>The Stranger</td>\n",
       "      <td>Edward G. Robinson, Loretta Young, Orson Welle...</td>\n",
       "      <td>United States</td>\n",
       "      <td>July 19, 2018</td>\n",
       "      <td>1946</td>\n",
       "      <td>TV-PG</td>\n",
       "      <td>94 min</td>\n",
       "      <td>Classic Movies, Dramas, Thrillers</td>\n",
       "      <td>A Nazi fugitive hiding in Connecticut tries to...</td>\n",
       "    </tr>\n",
       "  </tbody>\n",
       "</table>\n",
       "</div>"
      ],
      "text/plain": [
       "       type                    title  \\\n",
       "2013  Movie     The Battle of Midway   \n",
       "2021  Movie         Tunisian Victory   \n",
       "2005  Movie  Know Your Enemy - Japan   \n",
       "2006  Movie       Let There Be Light   \n",
       "2930  Movie             The Stranger   \n",
       "\n",
       "                                                   cast  \\\n",
       "2013                          Henry Fonda, Jane Darwell   \n",
       "2021                                   Burgess Meredith   \n",
       "2005                        Walter Huston, Dana Andrews   \n",
       "2006                                      Walter Huston   \n",
       "2930  Edward G. Robinson, Loretta Young, Orson Welle...   \n",
       "\n",
       "                            country      date_added  release_year rating  \\\n",
       "2013                  United States  March 31, 2017          1942   TV-G   \n",
       "2021  United States, United Kingdom  March 31, 2017          1944  TV-PG   \n",
       "2005                  United States  March 31, 2017          1945  TV-14   \n",
       "2006                  United States  March 31, 2017          1946  TV-PG   \n",
       "2930                  United States   July 19, 2018          1946  TV-PG   \n",
       "\n",
       "     duration                          listed_in  \\\n",
       "2013   18 min      Classic Movies, Documentaries   \n",
       "2021   76 min      Classic Movies, Documentaries   \n",
       "2005   63 min      Classic Movies, Documentaries   \n",
       "2006   58 min      Classic Movies, Documentaries   \n",
       "2930   94 min  Classic Movies, Dramas, Thrillers   \n",
       "\n",
       "                                            description  \n",
       "2013  Director John Ford captures combat footage of ...  \n",
       "2021  British and American troops join forces to lib...  \n",
       "2005  Though culturally insensitive by modern standa...  \n",
       "2006  Some returning combat veterans suffer scars th...  \n",
       "2930  A Nazi fugitive hiding in Connecticut tries to...  "
      ]
     },
     "execution_count": 117,
     "metadata": {},
     "output_type": "execute_result"
    }
   ],
   "source": [
    "#Sắp xếp lại dữ liệu theo ngày phát hành\n",
    "data.sort_values('release_year',axis=0,inplace=True)\n",
    "data.head()"
   ]
  },
  {
   "cell_type": "code",
   "execution_count": 118,
   "metadata": {
    "colab": {
     "base_uri": "https://localhost:8080/",
     "height": 204
    },
    "id": "wrC3yoaPYXhU",
    "outputId": "6030c8b8-26b8-4505-c028-f77b40a57af5"
   },
   "outputs": [
    {
     "data": {
      "text/html": [
       "<div>\n",
       "<style scoped>\n",
       "    .dataframe tbody tr th:only-of-type {\n",
       "        vertical-align: middle;\n",
       "    }\n",
       "\n",
       "    .dataframe tbody tr th {\n",
       "        vertical-align: top;\n",
       "    }\n",
       "\n",
       "    .dataframe thead th {\n",
       "        text-align: right;\n",
       "    }\n",
       "</style>\n",
       "<table border=\"1\" class=\"dataframe\">\n",
       "  <thead>\n",
       "    <tr style=\"text-align: right;\">\n",
       "      <th></th>\n",
       "      <th>type</th>\n",
       "      <th>title</th>\n",
       "      <th>cast</th>\n",
       "      <th>country</th>\n",
       "      <th>date_added</th>\n",
       "      <th>release_year</th>\n",
       "      <th>rating</th>\n",
       "      <th>duration</th>\n",
       "      <th>listed_in</th>\n",
       "      <th>description</th>\n",
       "    </tr>\n",
       "  </thead>\n",
       "  <tbody>\n",
       "    <tr>\n",
       "      <th>3180</th>\n",
       "      <td>Movie</td>\n",
       "      <td>Bulletproof 2</td>\n",
       "      <td>Faizon Love, Kirk Fox, Tony Todd, Pearl Thusi,...</td>\n",
       "      <td>United States</td>\n",
       "      <td>January 9, 2020</td>\n",
       "      <td>2020</td>\n",
       "      <td>TV-MA</td>\n",
       "      <td>97 min</td>\n",
       "      <td>Action &amp; Adventure, Comedies</td>\n",
       "      <td>A special agent abruptly reunites with a crimi...</td>\n",
       "    </tr>\n",
       "    <tr>\n",
       "      <th>3427</th>\n",
       "      <td>Movie</td>\n",
       "      <td>Leslie Jones: Time Machine</td>\n",
       "      <td>Leslie Jones</td>\n",
       "      <td>United States</td>\n",
       "      <td>January 14, 2020</td>\n",
       "      <td>2020</td>\n",
       "      <td>TV-MA</td>\n",
       "      <td>66 min</td>\n",
       "      <td>Stand-Up Comedy</td>\n",
       "      <td>From trying to seduce Prince to battling sleep...</td>\n",
       "    </tr>\n",
       "    <tr>\n",
       "      <th>3426</th>\n",
       "      <td>TV Show</td>\n",
       "      <td>Kipo and the Age of Wonderbeasts</td>\n",
       "      <td>Karen Fukuhara, Sydney Mikayla, Deon Cole, Coy...</td>\n",
       "      <td>United States</td>\n",
       "      <td>January 14, 2020</td>\n",
       "      <td>2020</td>\n",
       "      <td>TV-Y7-FV</td>\n",
       "      <td>1 Season</td>\n",
       "      <td>Kids' TV, TV Comedies</td>\n",
       "      <td>Making her way through a world of mutant anima...</td>\n",
       "    </tr>\n",
       "    <tr>\n",
       "      <th>3518</th>\n",
       "      <td>Movie</td>\n",
       "      <td>Ghost Stories</td>\n",
       "      <td>Janhvi Kapoor, Sobhita Dhulipala, Sukant Goel,...</td>\n",
       "      <td>India</td>\n",
       "      <td>January 1, 2020</td>\n",
       "      <td>2020</td>\n",
       "      <td>TV-MA</td>\n",
       "      <td>145 min</td>\n",
       "      <td>Horror Movies, International Movies, Thrillers</td>\n",
       "      <td>The directors of Emmy-nominated \"Lust Stories\"...</td>\n",
       "    </tr>\n",
       "    <tr>\n",
       "      <th>3325</th>\n",
       "      <td>TV Show</td>\n",
       "      <td>Sex, Explained</td>\n",
       "      <td>Janelle Monáe</td>\n",
       "      <td>United States</td>\n",
       "      <td>January 2, 2020</td>\n",
       "      <td>2020</td>\n",
       "      <td>TV-MA</td>\n",
       "      <td>1 Season</td>\n",
       "      <td>Docuseries, Science &amp; Nature TV</td>\n",
       "      <td>From the biology of attraction to the history ...</td>\n",
       "    </tr>\n",
       "  </tbody>\n",
       "</table>\n",
       "</div>"
      ],
      "text/plain": [
       "         type                             title  \\\n",
       "3180    Movie                     Bulletproof 2   \n",
       "3427    Movie        Leslie Jones: Time Machine   \n",
       "3426  TV Show  Kipo and the Age of Wonderbeasts   \n",
       "3518    Movie                     Ghost Stories   \n",
       "3325  TV Show                    Sex, Explained   \n",
       "\n",
       "                                                   cast        country  \\\n",
       "3180  Faizon Love, Kirk Fox, Tony Todd, Pearl Thusi,...  United States   \n",
       "3427                                       Leslie Jones  United States   \n",
       "3426  Karen Fukuhara, Sydney Mikayla, Deon Cole, Coy...  United States   \n",
       "3518  Janhvi Kapoor, Sobhita Dhulipala, Sukant Goel,...          India   \n",
       "3325                                      Janelle Monáe  United States   \n",
       "\n",
       "            date_added  release_year    rating  duration  \\\n",
       "3180   January 9, 2020          2020     TV-MA    97 min   \n",
       "3427  January 14, 2020          2020     TV-MA    66 min   \n",
       "3426  January 14, 2020          2020  TV-Y7-FV  1 Season   \n",
       "3518   January 1, 2020          2020     TV-MA   145 min   \n",
       "3325   January 2, 2020          2020     TV-MA  1 Season   \n",
       "\n",
       "                                           listed_in  \\\n",
       "3180                    Action & Adventure, Comedies   \n",
       "3427                                 Stand-Up Comedy   \n",
       "3426                           Kids' TV, TV Comedies   \n",
       "3518  Horror Movies, International Movies, Thrillers   \n",
       "3325                 Docuseries, Science & Nature TV   \n",
       "\n",
       "                                            description  \n",
       "3180  A special agent abruptly reunites with a crimi...  \n",
       "3427  From trying to seduce Prince to battling sleep...  \n",
       "3426  Making her way through a world of mutant anima...  \n",
       "3518  The directors of Emmy-nominated \"Lust Stories\"...  \n",
       "3325  From the biology of attraction to the history ...  "
      ]
     },
     "execution_count": 118,
     "metadata": {},
     "output_type": "execute_result"
    }
   ],
   "source": [
    "data.tail()"
   ]
  },
  {
   "cell_type": "markdown",
   "metadata": {
    "id": "P005jCFUaCqX"
   },
   "source": [
    "## **2.2) Loại bỏ các bộ film trùng tên trong tập dữ liệu**\n",
    "---\n",
    "Thực hiện xóa các bộ film trùng tên trong tập dữ liệu chỉ giữ lại bộ film có số lượng vote cao nhất"
   ]
  },
  {
   "cell_type": "code",
   "execution_count": 119,
   "metadata": {
    "colab": {
     "base_uri": "https://localhost:8080/"
    },
    "id": "CRZkxdx4aBxW",
    "outputId": "b593ba2c-0c25-48db-b893-1831adea42ee"
   },
   "outputs": [
    {
     "data": {
      "text/plain": [
       "title\n",
       "The Silence                3\n",
       "Oh My Ghost                3\n",
       "Love                       3\n",
       "She's Gotta Have It        2\n",
       "Prince                     2\n",
       "                          ..\n",
       "Stereo                     1\n",
       "Sarajevo                   1\n",
       "Macchli Jal Ki Rani Hai    1\n",
       "Anjaan                     1\n",
       "Sex, Explained             1\n",
       "Name: count, Length: 5201, dtype: int64"
      ]
     },
     "execution_count": 119,
     "metadata": {},
     "output_type": "execute_result"
    }
   ],
   "source": [
    "#Thống kê các bộ film trùng tên trong tập dữ liệu\n",
    "data['title'].value_counts()"
   ]
  },
  {
   "cell_type": "code",
   "execution_count": 120,
   "metadata": {
    "colab": {
     "base_uri": "https://localhost:8080/",
     "height": 297
    },
    "id": "YeFpN2KbagtA",
    "outputId": "62051ff3-b1f8-4583-ebd5-34f43b577ddd"
   },
   "outputs": [
    {
     "data": {
      "text/html": [
       "<div>\n",
       "<style scoped>\n",
       "    .dataframe tbody tr th:only-of-type {\n",
       "        vertical-align: middle;\n",
       "    }\n",
       "\n",
       "    .dataframe tbody tr th {\n",
       "        vertical-align: top;\n",
       "    }\n",
       "\n",
       "    .dataframe thead th {\n",
       "        text-align: right;\n",
       "    }\n",
       "</style>\n",
       "<table border=\"1\" class=\"dataframe\">\n",
       "  <thead>\n",
       "    <tr style=\"text-align: right;\">\n",
       "      <th></th>\n",
       "      <th>type</th>\n",
       "      <th>title</th>\n",
       "      <th>cast</th>\n",
       "      <th>country</th>\n",
       "      <th>date_added</th>\n",
       "      <th>release_year</th>\n",
       "      <th>rating</th>\n",
       "      <th>duration</th>\n",
       "      <th>listed_in</th>\n",
       "      <th>description</th>\n",
       "    </tr>\n",
       "  </thead>\n",
       "  <tbody>\n",
       "    <tr>\n",
       "      <th>2865</th>\n",
       "      <td>Movie</td>\n",
       "      <td>Oh My Ghost</td>\n",
       "      <td>Kohtee Aramboy, Sudarat Butrprom, Yingsak Chon...</td>\n",
       "      <td>Thailand</td>\n",
       "      <td>July 25, 2018</td>\n",
       "      <td>2009</td>\n",
       "      <td>TV-14</td>\n",
       "      <td>94 min</td>\n",
       "      <td>Comedies, Horror Movies, International Movies</td>\n",
       "      <td>A group of friends encounters a folk spirit in...</td>\n",
       "    </tr>\n",
       "    <tr>\n",
       "      <th>4740</th>\n",
       "      <td>TV Show</td>\n",
       "      <td>Oh My Ghost</td>\n",
       "      <td>Park Bo-young, Cho Jung-seok, Lim Ju-hwan, Kim...</td>\n",
       "      <td>South Korea</td>\n",
       "      <td>August 8, 2019</td>\n",
       "      <td>2015</td>\n",
       "      <td>TV-14</td>\n",
       "      <td>1 Season</td>\n",
       "      <td>International TV Shows, Korean TV Shows, Roman...</td>\n",
       "      <td>Possessed by the ghost of a lustful virgin, a ...</td>\n",
       "    </tr>\n",
       "    <tr>\n",
       "      <th>1155</th>\n",
       "      <td>TV Show</td>\n",
       "      <td>Oh My Ghost</td>\n",
       "      <td>Nuengthida Sophon, Keerati Mahaprukpong, Arak ...</td>\n",
       "      <td>Thailand</td>\n",
       "      <td>November 21, 2018</td>\n",
       "      <td>2018</td>\n",
       "      <td>TV-MA</td>\n",
       "      <td>1 Season</td>\n",
       "      <td>International TV Shows, Romantic TV Shows, TV ...</td>\n",
       "      <td>When a skilled but timid chef is possessed by ...</td>\n",
       "    </tr>\n",
       "  </tbody>\n",
       "</table>\n",
       "</div>"
      ],
      "text/plain": [
       "         type        title                                               cast  \\\n",
       "2865    Movie  Oh My Ghost  Kohtee Aramboy, Sudarat Butrprom, Yingsak Chon...   \n",
       "4740  TV Show  Oh My Ghost  Park Bo-young, Cho Jung-seok, Lim Ju-hwan, Kim...   \n",
       "1155  TV Show  Oh My Ghost  Nuengthida Sophon, Keerati Mahaprukpong, Arak ...   \n",
       "\n",
       "          country         date_added  release_year rating  duration  \\\n",
       "2865     Thailand      July 25, 2018          2009  TV-14    94 min   \n",
       "4740  South Korea     August 8, 2019          2015  TV-14  1 Season   \n",
       "1155     Thailand  November 21, 2018          2018  TV-MA  1 Season   \n",
       "\n",
       "                                              listed_in  \\\n",
       "2865      Comedies, Horror Movies, International Movies   \n",
       "4740  International TV Shows, Korean TV Shows, Roman...   \n",
       "1155  International TV Shows, Romantic TV Shows, TV ...   \n",
       "\n",
       "                                            description  \n",
       "2865  A group of friends encounters a folk spirit in...  \n",
       "4740  Possessed by the ghost of a lustful virgin, a ...  \n",
       "1155  When a skilled but timid chef is possessed by ...  "
      ]
     },
     "execution_count": 120,
     "metadata": {},
     "output_type": "execute_result"
    }
   ],
   "source": [
    "data.loc[data['title']=='Oh My Ghost']"
   ]
  },
  {
   "cell_type": "code",
   "execution_count": 121,
   "metadata": {
    "colab": {
     "base_uri": "https://localhost:8080/"
    },
    "id": "K39M6JnGbr6J",
    "outputId": "52de88b3-b30b-410e-ab8c-e2e5414bd921"
   },
   "outputs": [
    {
     "name": "stdout",
     "output_type": "stream",
     "text": [
      "<class 'pandas.core.frame.DataFrame'>\n",
      "Index: 5201 entries, 2013 to 3325\n",
      "Data columns (total 10 columns):\n",
      " #   Column        Non-Null Count  Dtype \n",
      "---  ------        --------------  ----- \n",
      " 0   type          5201 non-null   object\n",
      " 1   title         5201 non-null   object\n",
      " 2   cast          5201 non-null   object\n",
      " 3   country       5201 non-null   object\n",
      " 4   date_added    5201 non-null   object\n",
      " 5   release_year  5201 non-null   int64 \n",
      " 6   rating        5201 non-null   object\n",
      " 7   duration      5201 non-null   object\n",
      " 8   listed_in     5201 non-null   object\n",
      " 9   description   5201 non-null   object\n",
      "dtypes: int64(1), object(9)\n",
      "memory usage: 447.0+ KB\n"
     ]
    }
   ],
   "source": [
    "#Sắp xếp film theo thuộc tính vote_count và xóa các film trùng tên, \n",
    "#giữ lại film có lượt vote lớn hơn\n",
    "data.sort_values('release_year',ascending=True,inplace=True)\n",
    "data.drop_duplicates(['title'],keep='last',inplace=True)\n",
    "data.info()"
   ]
  },
  {
   "cell_type": "code",
   "execution_count": 122,
   "metadata": {
    "colab": {
     "base_uri": "https://localhost:8080/",
     "height": 80
    },
    "id": "6keRGB3wcQ_K",
    "outputId": "0ca8955a-86b8-4608-8d3d-b957a6e4a96b"
   },
   "outputs": [
    {
     "data": {
      "text/html": [
       "<div>\n",
       "<style scoped>\n",
       "    .dataframe tbody tr th:only-of-type {\n",
       "        vertical-align: middle;\n",
       "    }\n",
       "\n",
       "    .dataframe tbody tr th {\n",
       "        vertical-align: top;\n",
       "    }\n",
       "\n",
       "    .dataframe thead th {\n",
       "        text-align: right;\n",
       "    }\n",
       "</style>\n",
       "<table border=\"1\" class=\"dataframe\">\n",
       "  <thead>\n",
       "    <tr style=\"text-align: right;\">\n",
       "      <th></th>\n",
       "      <th>type</th>\n",
       "      <th>title</th>\n",
       "      <th>cast</th>\n",
       "      <th>country</th>\n",
       "      <th>date_added</th>\n",
       "      <th>release_year</th>\n",
       "      <th>rating</th>\n",
       "      <th>duration</th>\n",
       "      <th>listed_in</th>\n",
       "      <th>description</th>\n",
       "    </tr>\n",
       "  </thead>\n",
       "  <tbody>\n",
       "  </tbody>\n",
       "</table>\n",
       "</div>"
      ],
      "text/plain": [
       "Empty DataFrame\n",
       "Columns: [type, title, cast, country, date_added, release_year, rating, duration, listed_in, description]\n",
       "Index: []"
      ]
     },
     "execution_count": 122,
     "metadata": {},
     "output_type": "execute_result"
    }
   ],
   "source": [
    "#check lại dữ liệu sau khi xử lý:\n",
    "data.loc[data['title']=='Oh My Ghos']"
   ]
  },
  {
   "cell_type": "code",
   "execution_count": 123,
   "metadata": {
    "colab": {
     "base_uri": "https://localhost:8080/"
    },
    "id": "JUBlX7L7cV5s",
    "outputId": "1f90af49-e0a0-4b50-8fc0-0fe44b2e7194"
   },
   "outputs": [
    {
     "data": {
      "text/plain": [
       "title\n",
       "The Battle of Midway                         1\n",
       "Krish Trish and Baltiboy: Face Your Fears    1\n",
       "Behind the Curtain: Todrick Hall             1\n",
       "Fate/Apocrypha                               1\n",
       "The Russian Revolution                       1\n",
       "                                            ..\n",
       "Automata                                     1\n",
       "Sunrise                                      1\n",
       "Kurt Seyit & Sura                            1\n",
       "Lego DC Comics: Batman Be-Leaguered          1\n",
       "Sex, Explained                               1\n",
       "Name: count, Length: 5201, dtype: int64"
      ]
     },
     "execution_count": 123,
     "metadata": {},
     "output_type": "execute_result"
    }
   ],
   "source": [
    "#Thống kê các bộ film trùng tên trong tập dữ liệu sau xử lý\n",
    "data['title'].value_counts()"
   ]
  },
  {
   "cell_type": "markdown",
   "metadata": {
    "id": "XvgTl-Excfxt"
   },
   "source": [
    "## **2.3) Xử lý các bộ film không có tóm tắt film**\n",
    "---"
   ]
  },
  {
   "cell_type": "code",
   "execution_count": 124,
   "metadata": {
    "colab": {
     "base_uri": "https://localhost:8080/"
    },
    "id": "zIHAZtoVdGue",
    "outputId": "3de8fc8c-57a6-4495-ff0f-6c1844438847"
   },
   "outputs": [
    {
     "data": {
      "text/plain": [
       "description\n",
       "A surly septuagenarian gets another chance at her 20s after having her photo snapped at a studio that magically takes 50 years off her life.              3\n",
       "An aspiring musician battles age-old caste divides to be able to learn the art of a classical instrument from a traditionalist, veteran percussionist.    2\n",
       "As a series of murders hit close to home, a video game designer with post-traumatic stress must confront her demons, or risk becoming their victim.       2\n",
       "An affable, newly appointed college warden proves to be no ordinary man when an old enemy resurfaces and exposes his complicated, violent past.           2\n",
       "When Elastigirl gets recruited for a high-profile crime-fighting mission, Mr. Incredible takes on his toughest assignment ever: full-time parenting.      2\n",
       "                                                                                                                                                         ..\n",
       "A Turkish lieutenant and the daughter of Russian nobles fight for their love against forces of family and social expectation and historical events.       1\n",
       "When Superman and the other Justice League superheroes start disappearing, it's up to Batman to unravel the caper and save the day.                       1\n",
       "Interviews and dramatic reconstructions illuminate the twisted motivations and brazen crimes of serial killer and respected physician, Harold Shipman.    1\n",
       "A weekend hike for urbanites Alex and Jenn takes a dangerous turn when they become lost deep in the remote territory of a menacing bear.                  1\n",
       "From the biology of attraction to the history of birth control, explore the ins and outs of sex in this entertaining and enlightening series.             1\n",
       "Name: count, Length: 5194, dtype: int64"
      ]
     },
     "execution_count": 124,
     "metadata": {},
     "output_type": "execute_result"
    }
   ],
   "source": [
    "#Thống kê các dữ liệu trùng nhau\n",
    "data['description'].value_counts()"
   ]
  },
  {
   "cell_type": "code",
   "execution_count": 127,
   "metadata": {
    "colab": {
     "base_uri": "https://localhost:8080/",
     "height": 142
    },
    "id": "sPbgIdI4erc6",
    "outputId": "e34feae2-9321-46e7-efda-da0f346ea35a"
   },
   "outputs": [
    {
     "data": {
      "text/html": [
       "<div>\n",
       "<style scoped>\n",
       "    .dataframe tbody tr th:only-of-type {\n",
       "        vertical-align: middle;\n",
       "    }\n",
       "\n",
       "    .dataframe tbody tr th {\n",
       "        vertical-align: top;\n",
       "    }\n",
       "\n",
       "    .dataframe thead th {\n",
       "        text-align: right;\n",
       "    }\n",
       "</style>\n",
       "<table border=\"1\" class=\"dataframe\">\n",
       "  <thead>\n",
       "    <tr style=\"text-align: right;\">\n",
       "      <th></th>\n",
       "      <th>type</th>\n",
       "      <th>title</th>\n",
       "      <th>cast</th>\n",
       "      <th>country</th>\n",
       "      <th>date_added</th>\n",
       "      <th>release_year</th>\n",
       "      <th>rating</th>\n",
       "      <th>duration</th>\n",
       "      <th>listed_in</th>\n",
       "      <th>description</th>\n",
       "    </tr>\n",
       "  </thead>\n",
       "  <tbody>\n",
       "    <tr>\n",
       "      <th>252</th>\n",
       "      <td>Movie</td>\n",
       "      <td>Oh! Baby</td>\n",
       "      <td>Samantha Ruth Prabhu, Lakshmi, Rajendraprasad,...</td>\n",
       "      <td>India</td>\n",
       "      <td>September 14, 2019</td>\n",
       "      <td>2019</td>\n",
       "      <td>TV-14</td>\n",
       "      <td>157 min</td>\n",
       "      <td>Comedies, International Movies, Music &amp; Musicals</td>\n",
       "      <td>A surly septuagenarian gets another chance at ...</td>\n",
       "    </tr>\n",
       "    <tr>\n",
       "      <th>120</th>\n",
       "      <td>Movie</td>\n",
       "      <td>Oh! Baby (Tamil)</td>\n",
       "      <td>Samantha Ruth Prabhu, Lakshmi, Rajendraprasad,...</td>\n",
       "      <td>India</td>\n",
       "      <td>September 25, 2019</td>\n",
       "      <td>2019</td>\n",
       "      <td>TV-14</td>\n",
       "      <td>146 min</td>\n",
       "      <td>Comedies, International Movies, Music &amp; Musicals</td>\n",
       "      <td>A surly septuagenarian gets another chance at ...</td>\n",
       "    </tr>\n",
       "    <tr>\n",
       "      <th>119</th>\n",
       "      <td>Movie</td>\n",
       "      <td>Oh! Baby (Malayalam)</td>\n",
       "      <td>Samantha Ruth Prabhu, Lakshmi, Rajendraprasad,...</td>\n",
       "      <td>India</td>\n",
       "      <td>September 25, 2019</td>\n",
       "      <td>2019</td>\n",
       "      <td>TV-14</td>\n",
       "      <td>146 min</td>\n",
       "      <td>Comedies, International Movies, Music &amp; Musicals</td>\n",
       "      <td>A surly septuagenarian gets another chance at ...</td>\n",
       "    </tr>\n",
       "  </tbody>\n",
       "</table>\n",
       "</div>"
      ],
      "text/plain": [
       "      type                 title  \\\n",
       "252  Movie              Oh! Baby   \n",
       "120  Movie      Oh! Baby (Tamil)   \n",
       "119  Movie  Oh! Baby (Malayalam)   \n",
       "\n",
       "                                                  cast country  \\\n",
       "252  Samantha Ruth Prabhu, Lakshmi, Rajendraprasad,...   India   \n",
       "120  Samantha Ruth Prabhu, Lakshmi, Rajendraprasad,...   India   \n",
       "119  Samantha Ruth Prabhu, Lakshmi, Rajendraprasad,...   India   \n",
       "\n",
       "             date_added  release_year rating duration  \\\n",
       "252  September 14, 2019          2019  TV-14  157 min   \n",
       "120  September 25, 2019          2019  TV-14  146 min   \n",
       "119  September 25, 2019          2019  TV-14  146 min   \n",
       "\n",
       "                                            listed_in  \\\n",
       "252  Comedies, International Movies, Music & Musicals   \n",
       "120  Comedies, International Movies, Music & Musicals   \n",
       "119  Comedies, International Movies, Music & Musicals   \n",
       "\n",
       "                                           description  \n",
       "252  A surly septuagenarian gets another chance at ...  \n",
       "120  A surly septuagenarian gets another chance at ...  \n",
       "119  A surly septuagenarian gets another chance at ...  "
      ]
     },
     "execution_count": 127,
     "metadata": {},
     "output_type": "execute_result"
    }
   ],
   "source": [
    "#Có 3 bộ phim tên khác nhau nhưng có cùng tóm tắt phim:\n",
    "data.loc[(data['description']=='A surly septuagenarian gets another chance at her 20s after having her photo snapped at a studio that magically takes 50 years off her life.')]"
   ]
  },
  {
   "cell_type": "code",
   "execution_count": 171,
   "metadata": {},
   "outputs": [
    {
     "name": "stdout",
     "output_type": "stream",
     "text": [
      "Dataset sau khi xóa các bản trùng lặp, giữ lại bản gốc:\n",
      "          type                             title  \\\n",
      "0       Movie              The Battle of Midway   \n",
      "1       Movie                  Tunisian Victory   \n",
      "2       Movie           Know Your Enemy - Japan   \n",
      "3       Movie                Let There Be Light   \n",
      "4       Movie                      The Stranger   \n",
      "...       ...                               ...   \n",
      "5196    Movie        Leslie Jones: Time Machine   \n",
      "5197  TV Show  Kipo and the Age of Wonderbeasts   \n",
      "5198  TV Show                    Medical Police   \n",
      "5199  TV Show                           Dracula   \n",
      "5200  TV Show                    Sex, Explained   \n",
      "\n",
      "                                                   cast  \\\n",
      "0                             Henry Fonda, Jane Darwell   \n",
      "1                                      Burgess Meredith   \n",
      "2                           Walter Huston, Dana Andrews   \n",
      "3                                         Walter Huston   \n",
      "4     Edward G. Robinson, Loretta Young, Orson Welle...   \n",
      "...                                                 ...   \n",
      "5196                                       Leslie Jones   \n",
      "5197  Karen Fukuhara, Sydney Mikayla, Deon Cole, Coy...   \n",
      "5198  Erinn Hayes, Rob Huebel, Malin Akerman, Rob Co...   \n",
      "5199            Claes Bang, Dolly Wells, John Heffernan   \n",
      "5200                                      Janelle Monáe   \n",
      "\n",
      "                            country        date_added  release_year    rating  \\\n",
      "0                     United States    March 31, 2017          1942      TV-G   \n",
      "1     United States, United Kingdom    March 31, 2017          1944     TV-PG   \n",
      "2                     United States    March 31, 2017          1945     TV-14   \n",
      "3                     United States    March 31, 2017          1946     TV-PG   \n",
      "4                     United States     July 19, 2018          1946     TV-PG   \n",
      "...                             ...               ...           ...       ...   \n",
      "5196                  United States  January 14, 2020          2020     TV-MA   \n",
      "5197                  United States  January 14, 2020          2020  TV-Y7-FV   \n",
      "5198                  United States  January 10, 2020          2020     TV-MA   \n",
      "5199                 United Kingdom   January 4, 2020          2020     TV-14   \n",
      "5200                  United States   January 2, 2020          2020     TV-MA   \n",
      "\n",
      "      duration                                          listed_in  \\\n",
      "0       18 min                      Classic Movies, Documentaries   \n",
      "1       76 min                      Classic Movies, Documentaries   \n",
      "2       63 min                      Classic Movies, Documentaries   \n",
      "3       58 min                      Classic Movies, Documentaries   \n",
      "4       94 min                  Classic Movies, Dramas, Thrillers   \n",
      "...        ...                                                ...   \n",
      "5196    66 min                                    Stand-Up Comedy   \n",
      "5197  1 Season                              Kids' TV, TV Comedies   \n",
      "5198  1 Season  Crime TV Shows, TV Action & Adventure, TV Come...   \n",
      "5199  1 Season  British TV Shows, International TV Shows, TV D...   \n",
      "5200  1 Season                    Docuseries, Science & Nature TV   \n",
      "\n",
      "                                            description  \n",
      "0     Director John Ford captures combat footage of ...  \n",
      "1     British and American troops join forces to lib...  \n",
      "2     Though culturally insensitive by modern standa...  \n",
      "3     Some returning combat veterans suffer scars th...  \n",
      "4     A Nazi fugitive hiding in Connecticut tries to...  \n",
      "...                                                 ...  \n",
      "5196  From trying to seduce Prince to battling sleep...  \n",
      "5197  Making her way through a world of mutant anima...  \n",
      "5198  Doctors Owen Maestro and Lola Spratt leave Chi...  \n",
      "5199  The Count Dracula legend transforms with new t...  \n",
      "5200  From the biology of attraction to the history ...  \n",
      "\n",
      "[5194 rows x 10 columns]\n"
     ]
    }
   ],
   "source": [
    "#Xóa các bộ phim bị trùng lặp dựa trên cột description\n",
    "df_cleaned = data.drop_duplicates(subset=['description'], keep='first')\n",
    "print(\"Dataset sau khi xóa các bản trùng lặp, giữ lại bản gốc:\\n\", df_cleaned)"
   ]
  },
  {
   "cell_type": "markdown",
   "metadata": {
    "id": "s23lO1Zne3Vb"
   },
   "source": [
    "## **2.4) Lưu dữ liệu sau khi đã xử lý ra file**\n",
    "---"
   ]
  },
  {
   "cell_type": "code",
   "execution_count": 172,
   "metadata": {
    "id": "FHmP8zbPe-g0"
   },
   "outputs": [],
   "source": [
    "#Lưu dữ liệu ra file Data_Movies_ok.csv\n",
    "data.sort_values(['release_year'],inplace=True)\n",
    "data.reset_index(drop=True,inplace=True)\n",
    "data.to_csv('data/nf_Movies_ok.csv',index=None)"
   ]
  },
  {
   "cell_type": "markdown",
   "metadata": {
    "id": "kOC_WQXXVRb8"
   },
   "source": [
    "# **3) Xây dựng các hệ thống Recommender Systems**\n",
    "---\n",
    "\n",
    "* **Hệ thống đề xuất dựa trên nội dung (Content-based recommenders):** Hệ thống này sẽ gợi ý các bộ phim tương tự với bộ fim mà người dùng xem. Hệ thống này sử dụng metadata của các bộ film như: Thể loại film, đạo diễn, mô tả film, diễn viên...Ý tưởng chính đằng sau hệ thống đề xuất dựa vào nội dung đó là nếu một người đã thích/xem một bộ film nào đó, thì họ cũng sẽ thích/xem một bộ phim tương tự với bộ phim đã xem. \n"
   ]
  },
  {
   "cell_type": "markdown",
   "metadata": {
    "id": "OA7ibhaWcPE1"
   },
   "source": [
    "## **3.1) Content-Based Recommender:**\n",
    "---\n",
    "Với hệ thống đề xuất dựa trên nội dung, nhiệm vụ của chúng ta là phải tìm được một bộ film có nội dung tương đồng cao nhất với một bộ film xác định. \n",
    "\n",
    "Chúng ta sẽ phải tính toán số điểm tương đồng theo từng cặp cho tất cả các bộ film và đưa ra bộ film đề xuất có điểm tương đồng cao nhất.\n"
   ]
  },
  {
   "cell_type": "markdown",
   "metadata": {
    "id": "VWDwQowCl7AE"
   },
   "source": [
    "### A) Dựa vào tóm tắt film (Overview)\n",
    "---\n",
    "Dữ liệu film có thuộc tính \"overview\" đây là thuộc tính tóm tắt nội dung của bộ film. Chúng ta sẽ dựa vào thông tin tóm tắt film để tìm bộ film có nội dung tương tự với bộ film đưa vào.\n"
   ]
  },
  {
   "cell_type": "code",
   "execution_count": 173,
   "metadata": {
    "colab": {
     "base_uri": "https://localhost:8080/"
    },
    "id": "xUqXMlDjTmCh",
    "outputId": "80a7149c-8e50-4839-c2c7-e3ccaa04e4cd"
   },
   "outputs": [
    {
     "name": "stdout",
     "output_type": "stream",
     "text": [
      "<class 'pandas.core.frame.DataFrame'>\n",
      "RangeIndex: 5201 entries, 0 to 5200\n",
      "Data columns (total 10 columns):\n",
      " #   Column        Non-Null Count  Dtype \n",
      "---  ------        --------------  ----- \n",
      " 0   type          5201 non-null   object\n",
      " 1   title         5201 non-null   object\n",
      " 2   cast          5201 non-null   object\n",
      " 3   country       5201 non-null   object\n",
      " 4   date_added    5201 non-null   object\n",
      " 5   release_year  5201 non-null   int64 \n",
      " 6   rating        5201 non-null   object\n",
      " 7   duration      5201 non-null   object\n",
      " 8   listed_in     5201 non-null   object\n",
      " 9   description   5201 non-null   object\n",
      "dtypes: int64(1), object(9)\n",
      "memory usage: 406.5+ KB\n"
     ]
    }
   ],
   "source": [
    "#Dữ liệu các bộ film ban đầu\n",
    "data.info()"
   ]
  },
  {
   "cell_type": "code",
   "execution_count": 174,
   "metadata": {},
   "outputs": [
    {
     "data": {
      "text/html": [
       "<div>\n",
       "<style scoped>\n",
       "    .dataframe tbody tr th:only-of-type {\n",
       "        vertical-align: middle;\n",
       "    }\n",
       "\n",
       "    .dataframe tbody tr th {\n",
       "        vertical-align: top;\n",
       "    }\n",
       "\n",
       "    .dataframe thead th {\n",
       "        text-align: right;\n",
       "    }\n",
       "</style>\n",
       "<table border=\"1\" class=\"dataframe\">\n",
       "  <thead>\n",
       "    <tr style=\"text-align: right;\">\n",
       "      <th></th>\n",
       "      <th>type</th>\n",
       "      <th>title</th>\n",
       "      <th>cast</th>\n",
       "      <th>country</th>\n",
       "      <th>date_added</th>\n",
       "      <th>release_year</th>\n",
       "      <th>rating</th>\n",
       "      <th>duration</th>\n",
       "      <th>listed_in</th>\n",
       "      <th>description</th>\n",
       "    </tr>\n",
       "  </thead>\n",
       "  <tbody>\n",
       "    <tr>\n",
       "      <th>0</th>\n",
       "      <td>Movie</td>\n",
       "      <td>The Battle of Midway</td>\n",
       "      <td>Henry Fonda, Jane Darwell</td>\n",
       "      <td>United States</td>\n",
       "      <td>March 31, 2017</td>\n",
       "      <td>1942</td>\n",
       "      <td>TV-G</td>\n",
       "      <td>18 min</td>\n",
       "      <td>Classic Movies, Documentaries</td>\n",
       "      <td>Director John Ford captures combat footage of ...</td>\n",
       "    </tr>\n",
       "    <tr>\n",
       "      <th>1</th>\n",
       "      <td>Movie</td>\n",
       "      <td>Tunisian Victory</td>\n",
       "      <td>Burgess Meredith</td>\n",
       "      <td>United States, United Kingdom</td>\n",
       "      <td>March 31, 2017</td>\n",
       "      <td>1944</td>\n",
       "      <td>TV-PG</td>\n",
       "      <td>76 min</td>\n",
       "      <td>Classic Movies, Documentaries</td>\n",
       "      <td>British and American troops join forces to lib...</td>\n",
       "    </tr>\n",
       "    <tr>\n",
       "      <th>2</th>\n",
       "      <td>Movie</td>\n",
       "      <td>Know Your Enemy - Japan</td>\n",
       "      <td>Walter Huston, Dana Andrews</td>\n",
       "      <td>United States</td>\n",
       "      <td>March 31, 2017</td>\n",
       "      <td>1945</td>\n",
       "      <td>TV-14</td>\n",
       "      <td>63 min</td>\n",
       "      <td>Classic Movies, Documentaries</td>\n",
       "      <td>Though culturally insensitive by modern standa...</td>\n",
       "    </tr>\n",
       "    <tr>\n",
       "      <th>3</th>\n",
       "      <td>Movie</td>\n",
       "      <td>Let There Be Light</td>\n",
       "      <td>Walter Huston</td>\n",
       "      <td>United States</td>\n",
       "      <td>March 31, 2017</td>\n",
       "      <td>1946</td>\n",
       "      <td>TV-PG</td>\n",
       "      <td>58 min</td>\n",
       "      <td>Classic Movies, Documentaries</td>\n",
       "      <td>Some returning combat veterans suffer scars th...</td>\n",
       "    </tr>\n",
       "    <tr>\n",
       "      <th>4</th>\n",
       "      <td>Movie</td>\n",
       "      <td>The Stranger</td>\n",
       "      <td>Edward G. Robinson, Loretta Young, Orson Welle...</td>\n",
       "      <td>United States</td>\n",
       "      <td>July 19, 2018</td>\n",
       "      <td>1946</td>\n",
       "      <td>TV-PG</td>\n",
       "      <td>94 min</td>\n",
       "      <td>Classic Movies, Dramas, Thrillers</td>\n",
       "      <td>A Nazi fugitive hiding in Connecticut tries to...</td>\n",
       "    </tr>\n",
       "  </tbody>\n",
       "</table>\n",
       "</div>"
      ],
      "text/plain": [
       "    type                    title  \\\n",
       "0  Movie     The Battle of Midway   \n",
       "1  Movie         Tunisian Victory   \n",
       "2  Movie  Know Your Enemy - Japan   \n",
       "3  Movie       Let There Be Light   \n",
       "4  Movie             The Stranger   \n",
       "\n",
       "                                                cast  \\\n",
       "0                          Henry Fonda, Jane Darwell   \n",
       "1                                   Burgess Meredith   \n",
       "2                        Walter Huston, Dana Andrews   \n",
       "3                                      Walter Huston   \n",
       "4  Edward G. Robinson, Loretta Young, Orson Welle...   \n",
       "\n",
       "                         country      date_added  release_year rating  \\\n",
       "0                  United States  March 31, 2017          1942   TV-G   \n",
       "1  United States, United Kingdom  March 31, 2017          1944  TV-PG   \n",
       "2                  United States  March 31, 2017          1945  TV-14   \n",
       "3                  United States  March 31, 2017          1946  TV-PG   \n",
       "4                  United States   July 19, 2018          1946  TV-PG   \n",
       "\n",
       "  duration                          listed_in  \\\n",
       "0   18 min      Classic Movies, Documentaries   \n",
       "1   76 min      Classic Movies, Documentaries   \n",
       "2   63 min      Classic Movies, Documentaries   \n",
       "3   58 min      Classic Movies, Documentaries   \n",
       "4   94 min  Classic Movies, Dramas, Thrillers   \n",
       "\n",
       "                                         description  \n",
       "0  Director John Ford captures combat footage of ...  \n",
       "1  British and American troops join forces to lib...  \n",
       "2  Though culturally insensitive by modern standa...  \n",
       "3  Some returning combat veterans suffer scars th...  \n",
       "4  A Nazi fugitive hiding in Connecticut tries to...  "
      ]
     },
     "execution_count": 174,
     "metadata": {},
     "output_type": "execute_result"
    }
   ],
   "source": [
    "data.head()"
   ]
  },
  {
   "cell_type": "markdown",
   "metadata": {
    "id": "szA66RumrqW1"
   },
   "source": [
    "### 1. Chuyển đổi dữ liệu\n",
    "---\n",
    "Thuộc tính tóm tắt phim 'overview' có kiểu dữ liệu dạng chuỗi, cần phải biến đổi về dữ liệu dạng số.\n",
    "\n",
    "**Phương pháp 1: Túi đựng từ (Bag of Word):**\n",
    "\n",
    "Bag of Words (BOW) là một phương pháp để trích xuất các đặc điểm từ các dữ liệu văn bản. Tạo ra một tập hợp bao gồm các cặp giá trị key và value, giá trị key là từ duy nhất có trong tập dữ liệu, giá trị value là số lần xuất hiện của từ đó trong câu, và BOW hầu như không quan tâm đến thứ tự xuất hiện của các từ đó.\n",
    "\n",
    "**Phương pháp 2 TF-IDF:**\n",
    "\n",
    "TF-IDF xác định trọng số của một từ trong văn bản thu được qua thống kê thể hiện mức độ quan trọng của từ này trong một văn bản, mà bản thân văn bản đang xét nằm trong một tập hợp các văn bản. Giá trị TF-IDF cao thể hiện độ quan trọng cao và nó phụ thuộc vào số lần từ xuất hiện trong văn bản nhưng bù lại bởi tần suất của từ đó trong tập dữ liệu.\n",
    "\n"
   ]
  },
  {
   "cell_type": "code",
   "execution_count": null,
   "metadata": {
    "id": "9N8ON90ldtMu"
   },
   "outputs": [],
   "source": []
  },
  {
   "cell_type": "code",
   "execution_count": 175,
   "metadata": {},
   "outputs": [
    {
     "name": "stdout",
     "output_type": "stream",
     "text": [
      "Danh sách toàn bộ các từ: ['cha' 'cô' 'công' 'mẹ' 'nghĩa' 'thầy' 'ơn']\n",
      "[[1 0 1 1 0 0 0]\n",
      " [1 0 0 1 1 0 0]\n",
      " [0 1 0 0 0 1 2]\n",
      " [1 1 0 1 0 1 0]]\n"
     ]
    }
   ],
   "source": [
    "import numpy as np\n",
    "#Dữ liệu Text ban đầu:\n",
    "st = ['công cha mẹ',\n",
    "      'nghĩa mẹ cha',\n",
    "      'ơn thầy ơn cô',\n",
    "      'cha mẹ thầy cô']\n",
    "\n",
    "#Phương pháp 1:  Túi đựng từ (Bag of Word):\n",
    "from sklearn.feature_extraction.text import CountVectorizer\n",
    "#Định nghĩa phương thức\n",
    "bow = CountVectorizer()\n",
    "bow_st = bow.fit_transform(st)\n",
    "print('Danh sách toàn bộ các từ:',bow.get_feature_names_out())\n",
    "print(bow_st.toarray())\n"
   ]
  },
  {
   "cell_type": "code",
   "execution_count": 176,
   "metadata": {},
   "outputs": [
    {
     "name": "stdout",
     "output_type": "stream",
     "text": [
      "Danh sách toàn bộ các từ: ['cha' 'cô' 'công' 'mẹ' 'nghĩa' 'thầy' 'ơn']\n",
      "[[0.474 0.    0.742 0.474 0.    0.    0.   ]\n",
      " [0.474 0.    0.    0.474 0.742 0.    0.   ]\n",
      " [0.    0.344 0.    0.    0.    0.344 0.873]\n",
      " [0.445 0.55  0.    0.445 0.    0.55  0.   ]]\n"
     ]
    }
   ],
   "source": [
    "#Phương pháp 2: TF-IDF:\n",
    "from sklearn.feature_extraction.text import TfidfVectorizer\n",
    "#Định nghĩa một vector TF-IDF:\n",
    "tfidf = TfidfVectorizer()\n",
    "#Tính toán cho danh sách st:\n",
    "tfidf_st = tfidf.fit_transform(st)\n",
    "print('Danh sách toàn bộ các từ:',tfidf.get_feature_names_out())\n",
    "print(np.round(tfidf_st.toarray(),3))"
   ]
  },
  {
   "cell_type": "code",
   "execution_count": 177,
   "metadata": {
    "colab": {
     "base_uri": "https://localhost:8080/"
    },
    "id": "Sxw9Bd8Xt39_",
    "outputId": "e85ecf63-82f4-487d-b6e3-973b7cac43e0"
   },
   "outputs": [
    {
     "data": {
      "text/plain": [
       "(5201, 14938)"
      ]
     },
     "execution_count": 177,
     "metadata": {},
     "output_type": "execute_result"
    }
   ],
   "source": [
    "#Sử dụng phương pháp TF-IDF cho bài toán\n",
    "#Xây dựng ma trận TF-IDF cho thuộc tính tóm tắt phim (Overview)\n",
    "tfidf_matrix = tfidf.fit_transform(data['description'])\n",
    "\n",
    "# ma trận corpus của TFIDF\n",
    "tfidf_matrix.shape"
   ]
  },
  {
   "cell_type": "code",
   "execution_count": 178,
   "metadata": {},
   "outputs": [
    {
     "name": "stdout",
     "output_type": "stream",
     "text": [
      "1. Tóm tắt phim của bộ phim có chỉ số 2503:\n",
      "This documentary series tries to get at the root of some of the most heinous crimes ever committed by deranged, cold-blooded criminals.\n",
      "2. Dữ liệu sau khi đã chuyển đổi thành dạng số:\n"
     ]
    },
    {
     "data": {
      "text/plain": [
       "array([[0., 0., 0., ..., 0., 0., 0.]])"
      ]
     },
     "execution_count": 178,
     "metadata": {},
     "output_type": "execute_result"
    }
   ],
   "source": [
    "#So sánh kết quả chuyển đổi từ Chuỗi --> Số:\n",
    "\n",
    "print('1. Tóm tắt phim của bộ phim có chỉ số 2503:')\n",
    "print(data.loc[2503,'description'])\n",
    "\n",
    "print('2. Dữ liệu sau khi đã chuyển đổi thành dạng số:')\n",
    "tfidf_matrix[2503,:].toarray()"
   ]
  },
  {
   "cell_type": "code",
   "execution_count": 179,
   "metadata": {},
   "outputs": [
    {
     "name": "stdout",
     "output_type": "stream",
     "text": [
      "  (0, 1626)\t0.32059695646895886\n",
      "  (0, 3598)\t0.3359656037410482\n",
      "  (0, 6179)\t0.30969272769661366\n",
      "  (0, 11324)\t0.3012347507644171\n",
      "  (0, 2753)\t0.2834198516521792\n",
      "  (0, 3173)\t0.23332035140345875\n",
      "  (0, 8705)\t0.19614324658667914\n",
      "  (0, 4642)\t0.2387444097164252\n",
      "  (0, 3176)\t0.2387444097164252\n",
      "  (0, 3942)\t0.17659199436566717\n",
      "  (0, 2656)\t0.2622083158610957\n",
      "  (0, 11802)\t0.1610352387770799\n",
      "  (0, 5602)\t0.17687591889908405\n",
      "  (0, 1015)\t0.13401912817488312\n",
      "  (0, 13696)\t0.18305276330508863\n",
      "  (0, 12340)\t0.2006669360101181\n",
      "  (0, 13349)\t0.1129656346474265\n",
      "  (0, 2011)\t0.12015181569082155\n",
      "  (0, 13461)\t0.05925032206006913\n",
      "  (0, 13299)\t0.11419747268158395\n",
      "  (0, 9232)\t0.13347732619160474\n"
     ]
    }
   ],
   "source": [
    "print(tfidf_matrix[2503,:])"
   ]
  },
  {
   "cell_type": "code",
   "execution_count": 180,
   "metadata": {},
   "outputs": [
    {
     "data": {
      "text/plain": [
       "array([[0., 0., 0., 0., 0., 0., 0., 0., 0., 0.],\n",
       "       [0., 0., 0., 0., 0., 0., 0., 0., 0., 0.],\n",
       "       [0., 0., 0., 0., 0., 0., 0., 0., 0., 0.],\n",
       "       [0., 0., 0., 0., 0., 0., 0., 0., 0., 0.],\n",
       "       [0., 0., 0., 0., 0., 0., 0., 0., 0., 0.],\n",
       "       [0., 0., 0., 0., 0., 0., 0., 0., 0., 0.],\n",
       "       [0., 0., 0., 0., 0., 0., 0., 0., 0., 0.],\n",
       "       [0., 0., 0., 0., 0., 0., 0., 0., 0., 0.],\n",
       "       [0., 0., 0., 0., 0., 0., 0., 0., 0., 0.],\n",
       "       [0., 0., 0., 0., 0., 0., 0., 0., 0., 0.]])"
      ]
     },
     "execution_count": 180,
     "metadata": {},
     "output_type": "execute_result"
    }
   ],
   "source": [
    "#Hiển thị dữ liệu ma trân thưa\n",
    "tfidf_matrix[0:10,130:140].toarray()"
   ]
  },
  {
   "cell_type": "code",
   "execution_count": null,
   "metadata": {},
   "outputs": [],
   "source": []
  },
  {
   "cell_type": "markdown",
   "metadata": {
    "id": "HFZN7K8RudGM"
   },
   "source": [
    "### 2. Tính toán độ tương đồng của các bộ phim\n",
    "---\n",
    "Có tất cả 34 131 từ khác nhau được sử dụng để tóm tắt nội dung của 11 756 bộ film --> tạo ra một ma trận 11 756 hàng (mỗi hàng tương ứng với một bộ phim) và 34 131 cột (mỗi cột tương ứng với 1 từ trong toàn bộ các từ có trong tóm tắt phim)\n",
    "\n",
    "Dựa vào dữ liệu số hóa của các tóm tắt phim, chúng ta sẽ thực hiện việc tính toán độ tương đồng giữa các bộ phim với nhau. Có thể sử dụng các độ đo như:\n",
    "* Euclidean distance. \n",
    "* Cosine distance.\n",
    "\n",
    "Câu hỏi đặt ra là độ đo tương đồng nào là tốt nhất? ko có độ đo nào là tốt nhất nó phụ thuộc vào từng loại dữ liệu và bài toán cụ thể. \n",
    "\n",
    "Chúng ta sẽ sử dụng độ đo Cosine để tính độ tương đồng:\n",
    "<img src='pic/pic_cosine.png' width=300px>"
   ]
  },
  {
   "cell_type": "code",
   "execution_count": 181,
   "metadata": {
    "colab": {
     "base_uri": "https://localhost:8080/"
    },
    "id": "eBuu3Be-uXpP",
    "outputId": "f3cb9886-7c6e-4a67-816c-0f5bf7ffd77f"
   },
   "outputs": [
    {
     "name": "stdout",
     "output_type": "stream",
     "text": [
      "Kích thước ma trận tương đồng: (5201, 5201)\n",
      "[[1.         0.01494068 0.03335413 ... 0.04513034 0.00346688 0.06703692]\n",
      " [0.01494068 1.         0.         ... 0.0069373  0.01043082 0.02154672]\n",
      " [0.03335413 0.         1.         ... 0.02778096 0.         0.10192959]\n",
      " ...\n",
      " [0.04513034 0.0069373  0.02778096 ... 1.         0.03507509 0.03645859]\n",
      " [0.00346688 0.01043082 0.         ... 0.03507509 1.         0.01097995]\n",
      " [0.06703692 0.02154672 0.10192959 ... 0.03645859 0.01097995 1.        ]]\n"
     ]
    }
   ],
   "source": [
    "from sklearn.metrics.pairwise import linear_kernel\n",
    "\n",
    "#Tính độ tương tự cosine giữa các bộ film với nhau dựa vào \n",
    "#tóm tắt film ở dạng số\n",
    "cosine_sim = linear_kernel(tfidf_matrix,tfidf_matrix)\n",
    "print('Kích thước ma trận tương đồng:', cosine_sim.shape)\n",
    "print(cosine_sim)"
   ]
  },
  {
   "cell_type": "code",
   "execution_count": 182,
   "metadata": {},
   "outputs": [
    {
     "data": {
      "text/plain": [
       "0.0"
      ]
     },
     "execution_count": 182,
     "metadata": {},
     "output_type": "execute_result"
    }
   ],
   "source": [
    "#Giá trị nhỏ nhất:\n",
    "cosine_sim.min()"
   ]
  },
  {
   "cell_type": "code",
   "execution_count": 183,
   "metadata": {},
   "outputs": [
    {
     "data": {
      "text/plain": [
       "1.0"
      ]
     },
     "execution_count": 183,
     "metadata": {},
     "output_type": "execute_result"
    }
   ],
   "source": [
    "#Giá trị nhỏ nhất:\n",
    "round(cosine_sim.max(),2)"
   ]
  },
  {
   "cell_type": "markdown",
   "metadata": {},
   "source": [
    "**GHI CHÚ:**\n",
    "\n",
    "Có 5201 bộ phim sẽ tính tương đồng giữa chúng với nhau theo độ đo cosine; Độ tương đồng theo cosine có giá trị từ [0-1] thể hiện mức tương đồng từ thấp đến cao.\n",
    "\n",
    "\n",
    "Giá trị càng gần 1 độ tương đồng càng cao (nghĩa là tóm tắt phim --> nội dung phim càng giống nhau), trường hợp bằng 1 có nghĩa là 2 bộ phim có tóm tắt phim giống hệt nhau."
   ]
  },
  {
   "cell_type": "code",
   "execution_count": 184,
   "metadata": {
    "colab": {
     "base_uri": "https://localhost:8080/",
     "height": 504
    },
    "id": "IZfFoAc6y9Od",
    "outputId": "d5f97c34-0343-484c-c061-9b159c6a967e"
   },
   "outputs": [
    {
     "data": {
      "image/png": "[encoded data removed]",
      "text/plain": [
       "<Figure size 2000x1000 with 2 Axes>"
      ]
     },
     "metadata": {},
     "output_type": "display_data"
    }
   ],
   "source": [
    "#Trực quan hóa độ tương đồng của 100 bộ phim đầu tiên với nhau:\n",
    "import matplotlib.pyplot as plt\n",
    "import numpy as np\n",
    "import seaborn as sns\n",
    "sns.set(rc={'figure.figsize':(20,10)})\n",
    "\n",
    "ax = sns.heatmap(cosine_sim[0:100,0:100],\n",
    "                 cmap='bwr' )\n",
    "plt.show()"
   ]
  },
  {
   "cell_type": "markdown",
   "metadata": {},
   "source": [
    "### 3.Tích hợp hệ thống đề xuất\n",
    "---"
   ]
  },
  {
   "cell_type": "code",
   "execution_count": 185,
   "metadata": {
    "colab": {
     "base_uri": "https://localhost:8080/"
    },
    "id": "7j5m4H4rYBwQ",
    "outputId": "177ab8da-5049-4279-d9eb-4210614596c9"
   },
   "outputs": [
    {
     "data": {
      "text/plain": [
       "title\n",
       "The Battle of Midway                0\n",
       "Tunisian Victory                    1\n",
       "Know Your Enemy - Japan             2\n",
       "Let There Be Light                  3\n",
       "The Stranger                        4\n",
       "                                 ... \n",
       "All the Freckles in the World    5196\n",
       "Ghost Stories                    5197\n",
       "Dracula                          5198\n",
       "Live Twice, Love Once            5199\n",
       "Sex, Explained                   5200\n",
       "Length: 5201, dtype: int64"
      ]
     },
     "execution_count": 185,
     "metadata": {},
     "output_type": "execute_result"
    }
   ],
   "source": [
    "#Tạo một biến Series Lấy danh sách tên các bộ film \n",
    "#và index tương ứng\n",
    "indices = pd.Series(data.index,index=data['title'])\n",
    "indices"
   ]
  },
  {
   "cell_type": "markdown",
   "metadata": {
    "id": "4O1XlvUqa54b"
   },
   "source": [
    "**Xây dựng hàm: get_recommend_movies**\n",
    "\n",
    "đầu vào là tên của một bộ film sau đó dựa vào ma trận cosine_sim để xác định 8 bộ film có độ tương đồng cao theo thứ tự giảm dần.\n",
    "\n",
    "* input: title, cosine_sim\n",
    "* output: list 8 film similarity\n"
   ]
  },
  {
   "cell_type": "code",
   "execution_count": 186,
   "metadata": {
    "id": "fBWQxp0oaa1J"
   },
   "outputs": [],
   "source": [
    "def get_recommend_movies(title,cosine_sim=cosine_sim):\n",
    "    #Lấy index của bộ film theo tiêu đề đưa vào\n",
    "    idx=indices[title]\n",
    "    \n",
    "    #Lấy điểm tương đồng theo cặp của tất cả các movies theo tiêu đề bộ film đưa vào\n",
    "    sim_scores = list(enumerate(cosine_sim[idx]))\n",
    "    \n",
    "    #Sắp xếp các bộ film dựa theo điểm tương đồng giảm dần\n",
    "    sim_scores = sorted(sim_scores, key=lambda x: x[1], reverse=True)\n",
    "    \n",
    "    #Lấy điểm của 8 bộ film có độ tương đồng cao nhất\n",
    "    #Và bao gồm cả bộ phim đưa vào \n",
    "    sim_scores_8 = sim_scores[0:9]\n",
    "    \n",
    "    #Lấy index tương ứng với bộ film này:\n",
    "    movies_index = [i[0] for i in sim_scores_8]\n",
    "    \n",
    "    #Xóa index của bộ phim đầu vào khỏi danh sách kết quả:\n",
    "    movies_index.remove(idx)\n",
    "    \n",
    "    #trả ra tiêu đề và tóm tắt của 8 bộ film ứng với index\n",
    "    return data[['title','description','release_year']].iloc[movies_index]"
   ]
  },
  {
   "cell_type": "markdown",
   "metadata": {},
   "source": [
    "### 4. Sử dụng hệ thống gợi ý:\n",
    "---\n",
    "Khi người dùng xem một bộ phim bất kỳ hệ thống sẽ dựa vào tóm tắt của bộ phim người dùng xem để tìm trong CSDL những bộ phim có tóm tắt phim tương tự (nội dung phim giống nhau) nhất để đưa ra gợi ý cho người xem"
   ]
  },
  {
   "cell_type": "code",
   "execution_count": 191,
   "metadata": {},
   "outputs": [
    {
     "data": {
      "text/html": [
       "<div>\n",
       "<style scoped>\n",
       "    .dataframe tbody tr th:only-of-type {\n",
       "        vertical-align: middle;\n",
       "    }\n",
       "\n",
       "    .dataframe tbody tr th {\n",
       "        vertical-align: top;\n",
       "    }\n",
       "\n",
       "    .dataframe thead th {\n",
       "        text-align: right;\n",
       "    }\n",
       "</style>\n",
       "<table border=\"1\" class=\"dataframe\">\n",
       "  <thead>\n",
       "    <tr style=\"text-align: right;\">\n",
       "      <th></th>\n",
       "      <th>type</th>\n",
       "      <th>title</th>\n",
       "      <th>cast</th>\n",
       "      <th>country</th>\n",
       "      <th>date_added</th>\n",
       "      <th>release_year</th>\n",
       "      <th>rating</th>\n",
       "      <th>duration</th>\n",
       "      <th>listed_in</th>\n",
       "      <th>description</th>\n",
       "    </tr>\n",
       "  </thead>\n",
       "  <tbody>\n",
       "    <tr>\n",
       "      <th>4561</th>\n",
       "      <td>Movie</td>\n",
       "      <td>Oh! Baby</td>\n",
       "      <td>Samantha Ruth Prabhu, Lakshmi, Rajendraprasad,...</td>\n",
       "      <td>India</td>\n",
       "      <td>September 14, 2019</td>\n",
       "      <td>2019</td>\n",
       "      <td>TV-14</td>\n",
       "      <td>157 min</td>\n",
       "      <td>Comedies, International Movies, Music &amp; Musicals</td>\n",
       "      <td>A surly septuagenarian gets another chance at ...</td>\n",
       "    </tr>\n",
       "    <tr>\n",
       "      <th>4580</th>\n",
       "      <td>Movie</td>\n",
       "      <td>Oh! Baby (Tamil)</td>\n",
       "      <td>Samantha Ruth Prabhu, Lakshmi, Rajendraprasad,...</td>\n",
       "      <td>India</td>\n",
       "      <td>September 25, 2019</td>\n",
       "      <td>2019</td>\n",
       "      <td>TV-14</td>\n",
       "      <td>146 min</td>\n",
       "      <td>Comedies, International Movies, Music &amp; Musicals</td>\n",
       "      <td>A surly septuagenarian gets another chance at ...</td>\n",
       "    </tr>\n",
       "    <tr>\n",
       "      <th>4581</th>\n",
       "      <td>Movie</td>\n",
       "      <td>Oh! Baby (Malayalam)</td>\n",
       "      <td>Samantha Ruth Prabhu, Lakshmi, Rajendraprasad,...</td>\n",
       "      <td>India</td>\n",
       "      <td>September 25, 2019</td>\n",
       "      <td>2019</td>\n",
       "      <td>TV-14</td>\n",
       "      <td>146 min</td>\n",
       "      <td>Comedies, International Movies, Music &amp; Musicals</td>\n",
       "      <td>A surly septuagenarian gets another chance at ...</td>\n",
       "    </tr>\n",
       "  </tbody>\n",
       "</table>\n",
       "</div>"
      ],
      "text/plain": [
       "       type                 title  \\\n",
       "4561  Movie              Oh! Baby   \n",
       "4580  Movie      Oh! Baby (Tamil)   \n",
       "4581  Movie  Oh! Baby (Malayalam)   \n",
       "\n",
       "                                                   cast country  \\\n",
       "4561  Samantha Ruth Prabhu, Lakshmi, Rajendraprasad,...   India   \n",
       "4580  Samantha Ruth Prabhu, Lakshmi, Rajendraprasad,...   India   \n",
       "4581  Samantha Ruth Prabhu, Lakshmi, Rajendraprasad,...   India   \n",
       "\n",
       "              date_added  release_year rating duration  \\\n",
       "4561  September 14, 2019          2019  TV-14  157 min   \n",
       "4580  September 25, 2019          2019  TV-14  146 min   \n",
       "4581  September 25, 2019          2019  TV-14  146 min   \n",
       "\n",
       "                                             listed_in  \\\n",
       "4561  Comedies, International Movies, Music & Musicals   \n",
       "4580  Comedies, International Movies, Music & Musicals   \n",
       "4581  Comedies, International Movies, Music & Musicals   \n",
       "\n",
       "                                            description  \n",
       "4561  A surly septuagenarian gets another chance at ...  \n",
       "4580  A surly septuagenarian gets another chance at ...  \n",
       "4581  A surly septuagenarian gets another chance at ...  "
      ]
     },
     "execution_count": 191,
     "metadata": {},
     "output_type": "execute_result"
    }
   ],
   "source": [
    "#Thử với bộ phim có Tóm tắt phim giống nhau:\n",
    "#Có 3 bộ phim tên khác nhau nhưng có cùng tóm tắt phim:\n",
    "data.loc[(data['description']=='A surly septuagenarian gets another chance at her 20s after having her photo snapped at a studio that magically takes 50 years off her life.')]"
   ]
  },
  {
   "cell_type": "code",
   "execution_count": 192,
   "metadata": {},
   "outputs": [
    {
     "data": {
      "text/html": [
       "<div>\n",
       "<style scoped>\n",
       "    .dataframe tbody tr th:only-of-type {\n",
       "        vertical-align: middle;\n",
       "    }\n",
       "\n",
       "    .dataframe tbody tr th {\n",
       "        vertical-align: top;\n",
       "    }\n",
       "\n",
       "    .dataframe thead th {\n",
       "        text-align: right;\n",
       "    }\n",
       "</style>\n",
       "<table border=\"1\" class=\"dataframe\">\n",
       "  <thead>\n",
       "    <tr style=\"text-align: right;\">\n",
       "      <th></th>\n",
       "      <th>title</th>\n",
       "      <th>description</th>\n",
       "      <th>release_year</th>\n",
       "    </tr>\n",
       "  </thead>\n",
       "  <tbody>\n",
       "    <tr>\n",
       "      <th>4580</th>\n",
       "      <td>Oh! Baby (Tamil)</td>\n",
       "      <td>A surly septuagenarian gets another chance at ...</td>\n",
       "      <td>2019</td>\n",
       "    </tr>\n",
       "    <tr>\n",
       "      <th>4581</th>\n",
       "      <td>Oh! Baby (Malayalam)</td>\n",
       "      <td>A surly septuagenarian gets another chance at ...</td>\n",
       "      <td>2019</td>\n",
       "    </tr>\n",
       "    <tr>\n",
       "      <th>2556</th>\n",
       "      <td>Beiimaan Love</td>\n",
       "      <td>After having her heart broken by a man who sed...</td>\n",
       "      <td>2016</td>\n",
       "    </tr>\n",
       "    <tr>\n",
       "      <th>4286</th>\n",
       "      <td>In Family I Trust</td>\n",
       "      <td>After her partner cheats on her, an architect ...</td>\n",
       "      <td>2018</td>\n",
       "    </tr>\n",
       "    <tr>\n",
       "      <th>1095</th>\n",
       "      <td>Heaven's Garden</td>\n",
       "      <td>When her husband goes to jail for bankruptcy, ...</td>\n",
       "      <td>2011</td>\n",
       "    </tr>\n",
       "    <tr>\n",
       "      <th>1727</th>\n",
       "      <td>Mumbai Delhi Mumbai</td>\n",
       "      <td>In Delhi for the first time, a Mumbai girl los...</td>\n",
       "      <td>2014</td>\n",
       "    </tr>\n",
       "    <tr>\n",
       "      <th>1086</th>\n",
       "      <td>50/50</td>\n",
       "      <td>An otherwise healthy twentysomething has a com...</td>\n",
       "      <td>2011</td>\n",
       "    </tr>\n",
       "    <tr>\n",
       "      <th>597</th>\n",
       "      <td>Ahista Ahista</td>\n",
       "      <td>Stood up by her groom at the altar, a young wo...</td>\n",
       "      <td>2006</td>\n",
       "    </tr>\n",
       "  </tbody>\n",
       "</table>\n",
       "</div>"
      ],
      "text/plain": [
       "                     title                                        description  \\\n",
       "4580      Oh! Baby (Tamil)  A surly septuagenarian gets another chance at ...   \n",
       "4581  Oh! Baby (Malayalam)  A surly septuagenarian gets another chance at ...   \n",
       "2556         Beiimaan Love  After having her heart broken by a man who sed...   \n",
       "4286     In Family I Trust  After her partner cheats on her, an architect ...   \n",
       "1095       Heaven's Garden  When her husband goes to jail for bankruptcy, ...   \n",
       "1727   Mumbai Delhi Mumbai  In Delhi for the first time, a Mumbai girl los...   \n",
       "1086                 50/50  An otherwise healthy twentysomething has a com...   \n",
       "597          Ahista Ahista  Stood up by her groom at the altar, a young wo...   \n",
       "\n",
       "      release_year  \n",
       "4580          2019  \n",
       "4581          2019  \n",
       "2556          2016  \n",
       "4286          2018  \n",
       "1095          2011  \n",
       "1727          2014  \n",
       "1086          2011  \n",
       "597           2006  "
      ]
     },
     "execution_count": 192,
     "metadata": {},
     "output_type": "execute_result"
    }
   ],
   "source": [
    "#Khi đưa vào hệ thống đề xuất để gợi ý, nếu đầu vào là 1 trong 3 bộ phim\n",
    "#này thì đầu ra phải chứa 2 bộ phim còn lại vì có cùng tóm tắt phim\n",
    "#nên độ tương đồng sẽ cao nhất (=1)\n",
    "#Check:\n",
    "get_recommend_movies('Oh! Baby')"
   ]
  },
  {
   "cell_type": "code",
   "execution_count": 193,
   "metadata": {
    "colab": {
     "base_uri": "https://localhost:8080/"
    },
    "id": "0K44PBpbeW1v",
    "outputId": "c2299ec2-9509-4138-fba7-0898ce3c8e33"
   },
   "outputs": [
    {
     "data": {
      "text/html": [
       "<div>\n",
       "<style scoped>\n",
       "    .dataframe tbody tr th:only-of-type {\n",
       "        vertical-align: middle;\n",
       "    }\n",
       "\n",
       "    .dataframe tbody tr th {\n",
       "        vertical-align: top;\n",
       "    }\n",
       "\n",
       "    .dataframe thead th {\n",
       "        text-align: right;\n",
       "    }\n",
       "</style>\n",
       "<table border=\"1\" class=\"dataframe\">\n",
       "  <thead>\n",
       "    <tr style=\"text-align: right;\">\n",
       "      <th></th>\n",
       "      <th>title</th>\n",
       "      <th>description</th>\n",
       "      <th>release_year</th>\n",
       "    </tr>\n",
       "  </thead>\n",
       "  <tbody>\n",
       "    <tr>\n",
       "      <th>1536</th>\n",
       "      <td>20 Minutes</td>\n",
       "      <td>When his wife is convicted of murder, a horrif...</td>\n",
       "      <td>2013</td>\n",
       "    </tr>\n",
       "    <tr>\n",
       "      <th>874</th>\n",
       "      <td>Kaminey</td>\n",
       "      <td>A young man pursues his dreams of wealth by br...</td>\n",
       "      <td>2009</td>\n",
       "    </tr>\n",
       "    <tr>\n",
       "      <th>1835</th>\n",
       "      <td>Moor</td>\n",
       "      <td>A railway stationmaster tries to cope with his...</td>\n",
       "      <td>2015</td>\n",
       "    </tr>\n",
       "    <tr>\n",
       "      <th>1927</th>\n",
       "      <td>Secret in Their Eyes</td>\n",
       "      <td>A former FBI investigator reopens the haunting...</td>\n",
       "      <td>2015</td>\n",
       "    </tr>\n",
       "    <tr>\n",
       "      <th>5164</th>\n",
       "      <td>Fractured</td>\n",
       "      <td>After his wife and injured daughter disappear ...</td>\n",
       "      <td>2019</td>\n",
       "    </tr>\n",
       "    <tr>\n",
       "      <th>3166</th>\n",
       "      <td>Memoir of a Murderer</td>\n",
       "      <td>Hiding his own murderous past, a man suffering...</td>\n",
       "      <td>2017</td>\n",
       "    </tr>\n",
       "    <tr>\n",
       "      <th>4796</th>\n",
       "      <td>Ek Ladki Ko Dekha Toh Aisa Laga</td>\n",
       "      <td>As her family seeks to marry her off and a hop...</td>\n",
       "      <td>2019</td>\n",
       "    </tr>\n",
       "    <tr>\n",
       "      <th>3949</th>\n",
       "      <td>The Disastrous Life of Saiki K.</td>\n",
       "      <td>High school sophomore Kusuo Saiki swore as a c...</td>\n",
       "      <td>2018</td>\n",
       "    </tr>\n",
       "  </tbody>\n",
       "</table>\n",
       "</div>"
      ],
      "text/plain": [
       "                                title  \\\n",
       "1536                       20 Minutes   \n",
       "874                           Kaminey   \n",
       "1835                             Moor   \n",
       "1927             Secret in Their Eyes   \n",
       "5164                        Fractured   \n",
       "3166             Memoir of a Murderer   \n",
       "4796  Ek Ladki Ko Dekha Toh Aisa Laga   \n",
       "3949  The Disastrous Life of Saiki K.   \n",
       "\n",
       "                                            description  release_year  \n",
       "1536  When his wife is convicted of murder, a horrif...          2013  \n",
       "874   A young man pursues his dreams of wealth by br...          2009  \n",
       "1835  A railway stationmaster tries to cope with his...          2015  \n",
       "1927  A former FBI investigator reopens the haunting...          2015  \n",
       "5164  After his wife and injured daughter disappear ...          2019  \n",
       "3166  Hiding his own murderous past, a man suffering...          2017  \n",
       "4796  As her family seeks to marry her off and a hop...          2019  \n",
       "3949  High school sophomore Kusuo Saiki swore as a c...          2018  "
      ]
     },
     "execution_count": 193,
     "metadata": {},
     "output_type": "execute_result"
    }
   ],
   "source": [
    "#Thử đề xuất với tên bộ film bất kỳ\n",
    "#1. Bộ film: Batman Forever\n",
    "get_recommend_movies('The Stranger')"
   ]
  },
  {
   "cell_type": "code",
   "execution_count": 194,
   "metadata": {
    "colab": {
     "base_uri": "https://localhost:8080/"
    },
    "id": "ziTODbQre1qc",
    "outputId": "dc2a9113-8396-4aa0-f22c-956f9b175904"
   },
   "outputs": [
    {
     "data": {
      "text/html": [
       "<div>\n",
       "<style scoped>\n",
       "    .dataframe tbody tr th:only-of-type {\n",
       "        vertical-align: middle;\n",
       "    }\n",
       "\n",
       "    .dataframe tbody tr th {\n",
       "        vertical-align: top;\n",
       "    }\n",
       "\n",
       "    .dataframe thead th {\n",
       "        text-align: right;\n",
       "    }\n",
       "</style>\n",
       "<table border=\"1\" class=\"dataframe\">\n",
       "  <thead>\n",
       "    <tr style=\"text-align: right;\">\n",
       "      <th></th>\n",
       "      <th>title</th>\n",
       "      <th>description</th>\n",
       "      <th>release_year</th>\n",
       "    </tr>\n",
       "  </thead>\n",
       "  <tbody>\n",
       "    <tr>\n",
       "      <th>4268</th>\n",
       "      <td>Laatu</td>\n",
       "      <td>A man who hopes to bring light to his village ...</td>\n",
       "      <td>2018</td>\n",
       "    </tr>\n",
       "    <tr>\n",
       "      <th>4277</th>\n",
       "      <td>Castlevania</td>\n",
       "      <td>A vampire hunter fights to save a besieged cit...</td>\n",
       "      <td>2018</td>\n",
       "    </tr>\n",
       "    <tr>\n",
       "      <th>4165</th>\n",
       "      <td>Immortals</td>\n",
       "      <td>Driven by revenge, human-turned-vampire Mia se...</td>\n",
       "      <td>2018</td>\n",
       "    </tr>\n",
       "    <tr>\n",
       "      <th>2656</th>\n",
       "      <td>Penny Dreadful</td>\n",
       "      <td>The classic tales of Dracula, Frankenstein, Do...</td>\n",
       "      <td>2016</td>\n",
       "    </tr>\n",
       "    <tr>\n",
       "      <th>2637</th>\n",
       "      <td>Barbie: Spy Squad</td>\n",
       "      <td>A high-tech spy agency transforms Barbie and h...</td>\n",
       "      <td>2016</td>\n",
       "    </tr>\n",
       "    <tr>\n",
       "      <th>2787</th>\n",
       "      <td>The Charnel House</td>\n",
       "      <td>After an architect transforms a slaughterhouse...</td>\n",
       "      <td>2016</td>\n",
       "    </tr>\n",
       "    <tr>\n",
       "      <th>2040</th>\n",
       "      <td>Liar, Liar, Vampire</td>\n",
       "      <td>When a shy teen transfers to a new school, he ...</td>\n",
       "      <td>2015</td>\n",
       "    </tr>\n",
       "    <tr>\n",
       "      <th>2691</th>\n",
       "      <td>Welcome to Monster High: The Origin Story</td>\n",
       "      <td>Dracula's daughter Draculaura sets out to crea...</td>\n",
       "      <td>2016</td>\n",
       "    </tr>\n",
       "  </tbody>\n",
       "</table>\n",
       "</div>"
      ],
      "text/plain": [
       "                                          title  \\\n",
       "4268                                      Laatu   \n",
       "4277                                Castlevania   \n",
       "4165                                  Immortals   \n",
       "2656                             Penny Dreadful   \n",
       "2637                          Barbie: Spy Squad   \n",
       "2787                          The Charnel House   \n",
       "2040                        Liar, Liar, Vampire   \n",
       "2691  Welcome to Monster High: The Origin Story   \n",
       "\n",
       "                                            description  release_year  \n",
       "4268  A man who hopes to bring light to his village ...          2018  \n",
       "4277  A vampire hunter fights to save a besieged cit...          2018  \n",
       "4165  Driven by revenge, human-turned-vampire Mia se...          2018  \n",
       "2656  The classic tales of Dracula, Frankenstein, Do...          2016  \n",
       "2637  A high-tech spy agency transforms Barbie and h...          2016  \n",
       "2787  After an architect transforms a slaughterhouse...          2016  \n",
       "2040  When a shy teen transfers to a new school, he ...          2015  \n",
       "2691  Dracula's daughter Draculaura sets out to crea...          2016  "
      ]
     },
     "execution_count": 194,
     "metadata": {},
     "output_type": "execute_result"
    }
   ],
   "source": [
    "#Thử đề xuất với tên bộ film bất kỳ\n",
    "#2. Bộ film: Star Wars\n",
    "get_recommend_movies('Dracula')"
   ]
  },
  {
   "cell_type": "code",
   "execution_count": null,
   "metadata": {},
   "outputs": [],
   "source": []
  },
  {
   "cell_type": "code",
   "execution_count": null,
   "metadata": {},
   "outputs": [],
   "source": []
  }
 ],
 "metadata": {
  "accelerator": "TPU",
  "colab": {
   "collapsed_sections": [],
   "machine_shape": "hm",
   "name": "Project6_RecommenderSystem_Movie.ipynb",
   "provenance": [],
   "toc_visible": true
  },
  "kernelspec": {
   "display_name": "Python 3 (ipykernel)",
   "language": "python",
   "name": "python3"
  },
  "language_info": {
   "codemirror_mode": {
    "name": "ipython",
    "version": 3
   },
   "file_extension": ".py",
   "mimetype": "text/x-python",
   "name": "python",
   "nbconvert_exporter": "python",
   "pygments_lexer": "ipython3",
   "version": "3.11.5"
  }
 },
 "nbformat": 4,
 "nbformat_minor": 4
}
